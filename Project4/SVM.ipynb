{
 "cells": [
  {
   "cell_type": "code",
   "execution_count": 1,
   "id": "2d54712f-ea82-4251-a2c8-bc401f6e9b3a",
   "metadata": {},
   "outputs": [],
   "source": [
    "import pandas as pd\n",
    "import numpy as np\n",
    "import sklearn \n",
    "from sklearn.model_selection import train_test_split, GridSearchCV\n",
    "from sklearn import svm\n",
    "from sklearn.metrics import accuracy_score, recall_score, precision_score, f1_score, classification_report\n",
    "from sklearn.pipeline import make_pipeline\n",
    "from sklearn.preprocessing import StandardScaler"
   ]
  },
  {
   "cell_type": "code",
   "execution_count": 2,
   "id": "2fcb427e-8d3f-4f7c-b3e3-c6f6ee9a35f1",
   "metadata": {},
   "outputs": [],
   "source": [
    "## reading in the data from the data file\n",
    "data = pd.read_csv('project4.csv')"
   ]
  },
  {
   "cell_type": "code",
   "execution_count": 3,
   "id": "a9c397cf-813e-4837-bba5-95d2f2d86045",
   "metadata": {},
   "outputs": [],
   "source": [
    "## treating \"?\" values in node-caps with \"no\" because that is the \"mode\" or most frequent value\n",
    "data[\"node-caps\"] = data[\"node-caps\"].replace(\"?\",\"no\")"
   ]
  },
  {
   "cell_type": "code",
   "execution_count": 4,
   "id": "fe9a9dd4-88e0-4e71-a13b-f085723dad5c",
   "metadata": {},
   "outputs": [],
   "source": [
    "## treating \"?\" values in breast-quad with \"left_low\" because that is the \"mode\" or most frequent value\n",
    "data[\"breast-quad\"] = data[\"breast-quad\"].replace(\"?\",\"left_low\")"
   ]
  },
  {
   "cell_type": "code",
   "execution_count": 5,
   "id": "f08b50f9-b853-4cf2-8156-9f2e6c47b313",
   "metadata": {},
   "outputs": [],
   "source": [
    "## converting columns to category type for one-hot encoding\n",
    "data['class'] = data['class'].astype(\"category\")\n",
    "data['menopause'] = data['menopause'].astype(\"category\")\n",
    "data['node-caps'] = data['node-caps'].astype(\"category\")\n",
    "data['breast'] = data['breast'].astype(\"category\")\n",
    "data['breast-quad'] = data['breast-quad'].astype(\"category\")\n",
    "data['irradiat'] = data['irradiat'].astype(\"category\")"
   ]
  },
  {
   "cell_type": "code",
   "execution_count": 6,
   "id": "b1d6b533-e47f-4a3d-9184-26692e06c784",
   "metadata": {},
   "outputs": [
    {
     "name": "stdout",
     "output_type": "stream",
     "text": [
      "<class 'pandas.core.frame.DataFrame'>\n",
      "RangeIndex: 286 entries, 0 to 285\n",
      "Data columns (total 10 columns):\n",
      " #   Column       Non-Null Count  Dtype   \n",
      "---  ------       --------------  -----   \n",
      " 0   class        286 non-null    category\n",
      " 1   age          286 non-null    object  \n",
      " 2   menopause    286 non-null    category\n",
      " 3   tumor-size   286 non-null    object  \n",
      " 4   inv-nodes    286 non-null    object  \n",
      " 5   node-caps    286 non-null    category\n",
      " 6   deg-malig    286 non-null    int64   \n",
      " 7   breast       286 non-null    category\n",
      " 8   breast-quad  286 non-null    category\n",
      " 9   irradiat     286 non-null    category\n",
      "dtypes: category(6), int64(1), object(3)\n",
      "memory usage: 11.6+ KB\n"
     ]
    }
   ],
   "source": [
    "data.info()"
   ]
  },
  {
   "cell_type": "code",
   "execution_count": 7,
   "id": "18fccef8-91c4-499c-b314-62e300e37f82",
   "metadata": {},
   "outputs": [],
   "source": [
    "data = pd.get_dummies(data, columns=[\"class\", \"menopause\", \"node-caps\", 'breast','breast-quad','irradiat'], drop_first=True)"
   ]
  },
  {
   "cell_type": "code",
   "execution_count": 8,
   "id": "415d12a5-1dd5-4eb2-ae14-9b3bfeba1701",
   "metadata": {},
   "outputs": [],
   "source": [
    "## doing data type conversion on age, tumor-size, and inv-nodes by replacing ranges with their midpoint\n",
    "data[\"age\"] = data[\"age\"].replace({'20-29':'25', '30-39':'35','40-49':'45','50-59':'55','60-69':'65','70-79':'75'})\n",
    "data[\"tumor-size\"] = data[\"tumor-size\"].replace({'0-4':'2', '5-9':'7','10-14':'12','15-19':'17','20-24':'22','25-29':'27', '30-34':'32','35-39':'37','40-44':'42','45-49':'47','50-54':'52'})\n",
    "data[\"inv-nodes\"] = data[\"inv-nodes\"].replace({'0-2':'1', '3-5':'4','6-8':'7','9-11':'10','12-14':'13','15-17':'16','24-26':'25'})"
   ]
  },
  {
   "cell_type": "code",
   "execution_count": 9,
   "id": "c2fe6b38-5021-46ea-b0fa-44bdc426a32b",
   "metadata": {},
   "outputs": [
    {
     "name": "stdout",
     "output_type": "stream",
     "text": [
      "<class 'pandas.core.frame.DataFrame'>\n",
      "RangeIndex: 286 entries, 0 to 285\n",
      "Data columns (total 14 columns):\n",
      " #   Column                   Non-Null Count  Dtype\n",
      "---  ------                   --------------  -----\n",
      " 0   age                      286 non-null    int64\n",
      " 1   tumor-size               286 non-null    int64\n",
      " 2   inv-nodes                286 non-null    int64\n",
      " 3   deg-malig                286 non-null    int64\n",
      " 4   class_recurrence-events  286 non-null    bool \n",
      " 5   menopause_lt40           286 non-null    bool \n",
      " 6   menopause_premeno        286 non-null    bool \n",
      " 7   node-caps_yes            286 non-null    bool \n",
      " 8   breast_right             286 non-null    bool \n",
      " 9   breast-quad_left_low     286 non-null    bool \n",
      " 10  breast-quad_left_up      286 non-null    bool \n",
      " 11  breast-quad_right_low    286 non-null    bool \n",
      " 12  breast-quad_right_up     286 non-null    bool \n",
      " 13  irradiat_yes             286 non-null    bool \n",
      "dtypes: bool(10), int64(4)\n",
      "memory usage: 11.9 KB\n"
     ]
    }
   ],
   "source": [
    "## converting the columns to ints\n",
    "data[\"age\"] = data[\"age\"].astype(int)\n",
    "data[\"tumor-size\"] = data[\"tumor-size\"].astype(int)\n",
    "data[\"inv-nodes\"] = data[\"inv-nodes\"].astype(int)\n",
    "data.info()"
   ]
  },
  {
   "cell_type": "code",
   "execution_count": 10,
   "id": "8ba8bb09-d550-4e18-8597-ff241642446c",
   "metadata": {},
   "outputs": [
    {
     "name": "stdout",
     "output_type": "stream",
     "text": [
      "<class 'pandas.core.frame.DataFrame'>\n",
      "RangeIndex: 272 entries, 0 to 271\n",
      "Data columns (total 14 columns):\n",
      " #   Column                   Non-Null Count  Dtype\n",
      "---  ------                   --------------  -----\n",
      " 0   age                      272 non-null    int64\n",
      " 1   tumor-size               272 non-null    int64\n",
      " 2   inv-nodes                272 non-null    int64\n",
      " 3   deg-malig                272 non-null    int64\n",
      " 4   class_recurrence-events  272 non-null    bool \n",
      " 5   menopause_lt40           272 non-null    bool \n",
      " 6   menopause_premeno        272 non-null    bool \n",
      " 7   node-caps_yes            272 non-null    bool \n",
      " 8   breast_right             272 non-null    bool \n",
      " 9   breast-quad_left_low     272 non-null    bool \n",
      " 10  breast-quad_left_up      272 non-null    bool \n",
      " 11  breast-quad_right_low    272 non-null    bool \n",
      " 12  breast-quad_right_up     272 non-null    bool \n",
      " 13  irradiat_yes             272 non-null    bool \n",
      "dtypes: bool(10), int64(4)\n",
      "memory usage: 11.3 KB\n"
     ]
    }
   ],
   "source": [
    "data.drop_duplicates(inplace=True, ignore_index=True)\n",
    "data.info()"
   ]
  },
  {
   "cell_type": "code",
   "execution_count": 11,
   "id": "cf6930fc-1629-498a-97ff-56fb54c52715",
   "metadata": {},
   "outputs": [
    {
     "data": {
      "text/plain": [
       "<Axes: ylabel='inv-nodes'>"
      ]
     },
     "execution_count": 11,
     "metadata": {},
     "output_type": "execute_result"
    },
    {
     "data": {
      "image/png": "[encoded data removed]",
      "text/plain": [
       "<Figure size 640x480 with 1 Axes>"
      ]
     },
     "metadata": {},
     "output_type": "display_data"
    }
   ],
   "source": [
    "import seaborn as sns\n",
    "import matplotlib.pyplot as plt\n",
    "sns.boxplot(data=data['inv-nodes'])"
   ]
  },
  {
   "cell_type": "code",
   "execution_count": 12,
   "id": "a69852fc-8bfd-48d7-8b44-a33d506ff769",
   "metadata": {},
   "outputs": [
    {
     "data": {
      "text/plain": [
       "<Axes: ylabel='tumor-size'>"
      ]
     },
     "execution_count": 12,
     "metadata": {},
     "output_type": "execute_result"
    },
    {
     "data": {
      "image/png": "[encoded data removed]",
      "text/plain": [
       "<Figure size 640x480 with 1 Axes>"
      ]
     },
     "metadata": {},
     "output_type": "display_data"
    }
   ],
   "source": [
    "sns.boxplot(data=data['tumor-size']) # few outlier"
   ]
  },
  {
   "cell_type": "code",
   "execution_count": 13,
   "id": "567cea02-ba01-477c-914d-1e77af9b809a",
   "metadata": {},
   "outputs": [
    {
     "data": {
      "text/plain": [
       "<Axes: xlabel='age', ylabel='Count'>"
      ]
     },
     "execution_count": 13,
     "metadata": {},
     "output_type": "execute_result"
    },
    {
     "data": {
      "image/png": "[encoded data removed]",
      "text/plain": [
       "<Figure size 640x480 with 1 Axes>"
      ]
     },
     "metadata": {},
     "output_type": "display_data"
    }
   ],
   "source": [
    "sns.histplot(data=data['age']) # we can see a large count between 40-60"
   ]
  },
  {
   "cell_type": "code",
   "execution_count": 14,
   "id": "1e724f48-788b-47eb-9259-eada64869c65",
   "metadata": {},
   "outputs": [
    {
     "data": {
      "text/plain": [
       "<Axes: xlabel='deg-malig', ylabel='Count'>"
      ]
     },
     "execution_count": 14,
     "metadata": {},
     "output_type": "execute_result"
    },
    {
     "data": {
      "image/png": "[encoded data removed]",
      "text/plain": [
       "<Figure size 640x480 with 1 Axes>"
      ]
     },
     "metadata": {},
     "output_type": "display_data"
    }
   ],
   "source": [
    "sns.histplot(data=data['deg-malig']) # most are 2 malig"
   ]
  },
  {
   "cell_type": "code",
   "execution_count": 15,
   "id": "8e654563-b9c6-4b69-9582-27ccd32a78c6",
   "metadata": {},
   "outputs": [
    {
     "data": {
      "image/png": "[encoded data removed]",
      "text/plain": [
       "<Figure size 640x480 with 2 Axes>"
      ]
     },
     "metadata": {},
     "output_type": "display_data"
    }
   ],
   "source": [
    "\n",
    "corr_cols = data.columns\n",
    "# the actual heat map\n",
    "sns.heatmap(\n",
    "   data[corr_cols].corr(), annot=True, vmin=-1, vmax=1, fmt=\".1f\", cmap=\"Spectral\"\n",
    ")\n",
    "# show the plot\n",
    "plt.show()"
   ]
  },
  {
   "cell_type": "code",
   "execution_count": 16,
   "id": "5da08f33-5f4d-4daa-ad00-3182b03ea7e4",
   "metadata": {},
   "outputs": [],
   "source": [
    "X = data.drop('class_recurrence-events', axis=1)\n",
    "y = data['class_recurrence-events']\n",
    "X_train, X_test, y_train, y_test = train_test_split(X, y, test_size=0.3, stratify=y, random_state=1)"
   ]
  },
  {
   "cell_type": "code",
   "execution_count": 17,
   "id": "ae16c173-47ce-4dc1-8c02-15537a3805fb",
   "metadata": {},
   "outputs": [
    {
     "data": {
      "text/html": [
       "<style>#sk-container-id-1 {\n",
       "  /* Definition of color scheme common for light and dark mode */\n",
       "  --sklearn-color-text: black;\n",
       "  --sklearn-color-line: gray;\n",
       "  /* Definition of color scheme for unfitted estimators */\n",
       "  --sklearn-color-unfitted-level-0: #fff5e6;\n",
       "  --sklearn-color-unfitted-level-1: #f6e4d2;\n",
       "  --sklearn-color-unfitted-level-2: #ffe0b3;\n",
       "  --sklearn-color-unfitted-level-3: chocolate;\n",
       "  /* Definition of color scheme for fitted estimators */\n",
       "  --sklearn-color-fitted-level-0: #f0f8ff;\n",
       "  --sklearn-color-fitted-level-1: #d4ebff;\n",
       "  --sklearn-color-fitted-level-2: #b3dbfd;\n",
       "  --sklearn-color-fitted-level-3: cornflowerblue;\n",
       "\n",
       "  /* Specific color for light theme */\n",
       "  --sklearn-color-text-on-default-background: var(--sg-text-color, var(--theme-code-foreground, var(--jp-content-font-color1, black)));\n",
       "  --sklearn-color-background: var(--sg-background-color, var(--theme-background, var(--jp-layout-color0, white)));\n",
       "  --sklearn-color-border-box: var(--sg-text-color, var(--theme-code-foreground, var(--jp-content-font-color1, black)));\n",
       "  --sklearn-color-icon: #696969;\n",
       "\n",
       "  @media (prefers-color-scheme: dark) {\n",
       "    /* Redefinition of color scheme for dark theme */\n",
       "    --sklearn-color-text-on-default-background: var(--sg-text-color, var(--theme-code-foreground, var(--jp-content-font-color1, white)));\n",
       "    --sklearn-color-background: var(--sg-background-color, var(--theme-background, var(--jp-layout-color0, #111)));\n",
       "    --sklearn-color-border-box: var(--sg-text-color, var(--theme-code-foreground, var(--jp-content-font-color1, white)));\n",
       "    --sklearn-color-icon: #878787;\n",
       "  }\n",
       "}\n",
       "\n",
       "#sk-container-id-1 {\n",
       "  color: var(--sklearn-color-text);\n",
       "}\n",
       "\n",
       "#sk-container-id-1 pre {\n",
       "  padding: 0;\n",
       "}\n",
       "\n",
       "#sk-container-id-1 input.sk-hidden--visually {\n",
       "  border: 0;\n",
       "  clip: rect(1px 1px 1px 1px);\n",
       "  clip: rect(1px, 1px, 1px, 1px);\n",
       "  height: 1px;\n",
       "  margin: -1px;\n",
       "  overflow: hidden;\n",
       "  padding: 0;\n",
       "  position: absolute;\n",
       "  width: 1px;\n",
       "}\n",
       "\n",
       "#sk-container-id-1 div.sk-dashed-wrapped {\n",
       "  border: 1px dashed var(--sklearn-color-line);\n",
       "  margin: 0 0.4em 0.5em 0.4em;\n",
       "  box-sizing: border-box;\n",
       "  padding-bottom: 0.4em;\n",
       "  background-color: var(--sklearn-color-background);\n",
       "}\n",
       "\n",
       "#sk-container-id-1 div.sk-container {\n",
       "  /* jupyter's `normalize.less` sets `[hidden] { display: none; }`\n",
       "     but bootstrap.min.css set `[hidden] { display: none !important; }`\n",
       "     so we also need the `!important` here to be able to override the\n",
       "     default hidden behavior on the sphinx rendered scikit-learn.org.\n",
       "     See: https://github.com/scikit-learn/scikit-learn/issues/21755 */\n",
       "  display: inline-block !important;\n",
       "  position: relative;\n",
       "}\n",
       "\n",
       "#sk-container-id-1 div.sk-text-repr-fallback {\n",
       "  display: none;\n",
       "}\n",
       "\n",
       "div.sk-parallel-item,\n",
       "div.sk-serial,\n",
       "div.sk-item {\n",
       "  /* draw centered vertical line to link estimators */\n",
       "  background-image: linear-gradient(var(--sklearn-color-text-on-default-background), var(--sklearn-color-text-on-default-background));\n",
       "  background-size: 2px 100%;\n",
       "  background-repeat: no-repeat;\n",
       "  background-position: center center;\n",
       "}\n",
       "\n",
       "/* Parallel-specific style estimator block */\n",
       "\n",
       "#sk-container-id-1 div.sk-parallel-item::after {\n",
       "  content: \"\";\n",
       "  width: 100%;\n",
       "  border-bottom: 2px solid var(--sklearn-color-text-on-default-background);\n",
       "  flex-grow: 1;\n",
       "}\n",
       "\n",
       "#sk-container-id-1 div.sk-parallel {\n",
       "  display: flex;\n",
       "  align-items: stretch;\n",
       "  justify-content: center;\n",
       "  background-color: var(--sklearn-color-background);\n",
       "  position: relative;\n",
       "}\n",
       "\n",
       "#sk-container-id-1 div.sk-parallel-item {\n",
       "  display: flex;\n",
       "  flex-direction: column;\n",
       "}\n",
       "\n",
       "#sk-container-id-1 div.sk-parallel-item:first-child::after {\n",
       "  align-self: flex-end;\n",
       "  width: 50%;\n",
       "}\n",
       "\n",
       "#sk-container-id-1 div.sk-parallel-item:last-child::after {\n",
       "  align-self: flex-start;\n",
       "  width: 50%;\n",
       "}\n",
       "\n",
       "#sk-container-id-1 div.sk-parallel-item:only-child::after {\n",
       "  width: 0;\n",
       "}\n",
       "\n",
       "/* Serial-specific style estimator block */\n",
       "\n",
       "#sk-container-id-1 div.sk-serial {\n",
       "  display: flex;\n",
       "  flex-direction: column;\n",
       "  align-items: center;\n",
       "  background-color: var(--sklearn-color-background);\n",
       "  padding-right: 1em;\n",
       "  padding-left: 1em;\n",
       "}\n",
       "\n",
       "\n",
       "/* Toggleable style: style used for estimator/Pipeline/ColumnTransformer box that is\n",
       "clickable and can be expanded/collapsed.\n",
       "- Pipeline and ColumnTransformer use this feature and define the default style\n",
       "- Estimators will overwrite some part of the style using the `sk-estimator` class\n",
       "*/\n",
       "\n",
       "/* Pipeline and ColumnTransformer style (default) */\n",
       "\n",
       "#sk-container-id-1 div.sk-toggleable {\n",
       "  /* Default theme specific background. It is overwritten whether we have a\n",
       "  specific estimator or a Pipeline/ColumnTransformer */\n",
       "  background-color: var(--sklearn-color-background);\n",
       "}\n",
       "\n",
       "/* Toggleable label */\n",
       "#sk-container-id-1 label.sk-toggleable__label {\n",
       "  cursor: pointer;\n",
       "  display: block;\n",
       "  width: 100%;\n",
       "  margin-bottom: 0;\n",
       "  padding: 0.5em;\n",
       "  box-sizing: border-box;\n",
       "  text-align: center;\n",
       "}\n",
       "\n",
       "#sk-container-id-1 label.sk-toggleable__label-arrow:before {\n",
       "  /* Arrow on the left of the label */\n",
       "  content: \"▸\";\n",
       "  float: left;\n",
       "  margin-right: 0.25em;\n",
       "  color: var(--sklearn-color-icon);\n",
       "}\n",
       "\n",
       "#sk-container-id-1 label.sk-toggleable__label-arrow:hover:before {\n",
       "  color: var(--sklearn-color-text);\n",
       "}\n",
       "\n",
       "/* Toggleable content - dropdown */\n",
       "\n",
       "#sk-container-id-1 div.sk-toggleable__content {\n",
       "  max-height: 0;\n",
       "  max-width: 0;\n",
       "  overflow: hidden;\n",
       "  text-align: left;\n",
       "  /* unfitted */\n",
       "  background-color: var(--sklearn-color-unfitted-level-0);\n",
       "}\n",
       "\n",
       "#sk-container-id-1 div.sk-toggleable__content.fitted {\n",
       "  /* fitted */\n",
       "  background-color: var(--sklearn-color-fitted-level-0);\n",
       "}\n",
       "\n",
       "#sk-container-id-1 div.sk-toggleable__content pre {\n",
       "  margin: 0.2em;\n",
       "  border-radius: 0.25em;\n",
       "  color: var(--sklearn-color-text);\n",
       "  /* unfitted */\n",
       "  background-color: var(--sklearn-color-unfitted-level-0);\n",
       "}\n",
       "\n",
       "#sk-container-id-1 div.sk-toggleable__content.fitted pre {\n",
       "  /* unfitted */\n",
       "  background-color: var(--sklearn-color-fitted-level-0);\n",
       "}\n",
       "\n",
       "#sk-container-id-1 input.sk-toggleable__control:checked~div.sk-toggleable__content {\n",
       "  /* Expand drop-down */\n",
       "  max-height: 200px;\n",
       "  max-width: 100%;\n",
       "  overflow: auto;\n",
       "}\n",
       "\n",
       "#sk-container-id-1 input.sk-toggleable__control:checked~label.sk-toggleable__label-arrow:before {\n",
       "  content: \"▾\";\n",
       "}\n",
       "\n",
       "/* Pipeline/ColumnTransformer-specific style */\n",
       "\n",
       "#sk-container-id-1 div.sk-label input.sk-toggleable__control:checked~label.sk-toggleable__label {\n",
       "  color: var(--sklearn-color-text);\n",
       "  background-color: var(--sklearn-color-unfitted-level-2);\n",
       "}\n",
       "\n",
       "#sk-container-id-1 div.sk-label.fitted input.sk-toggleable__control:checked~label.sk-toggleable__label {\n",
       "  background-color: var(--sklearn-color-fitted-level-2);\n",
       "}\n",
       "\n",
       "/* Estimator-specific style */\n",
       "\n",
       "/* Colorize estimator box */\n",
       "#sk-container-id-1 div.sk-estimator input.sk-toggleable__control:checked~label.sk-toggleable__label {\n",
       "  /* unfitted */\n",
       "  background-color: var(--sklearn-color-unfitted-level-2);\n",
       "}\n",
       "\n",
       "#sk-container-id-1 div.sk-estimator.fitted input.sk-toggleable__control:checked~label.sk-toggleable__label {\n",
       "  /* fitted */\n",
       "  background-color: var(--sklearn-color-fitted-level-2);\n",
       "}\n",
       "\n",
       "#sk-container-id-1 div.sk-label label.sk-toggleable__label,\n",
       "#sk-container-id-1 div.sk-label label {\n",
       "  /* The background is the default theme color */\n",
       "  color: var(--sklearn-color-text-on-default-background);\n",
       "}\n",
       "\n",
       "/* On hover, darken the color of the background */\n",
       "#sk-container-id-1 div.sk-label:hover label.sk-toggleable__label {\n",
       "  color: var(--sklearn-color-text);\n",
       "  background-color: var(--sklearn-color-unfitted-level-2);\n",
       "}\n",
       "\n",
       "/* Label box, darken color on hover, fitted */\n",
       "#sk-container-id-1 div.sk-label.fitted:hover label.sk-toggleable__label.fitted {\n",
       "  color: var(--sklearn-color-text);\n",
       "  background-color: var(--sklearn-color-fitted-level-2);\n",
       "}\n",
       "\n",
       "/* Estimator label */\n",
       "\n",
       "#sk-container-id-1 div.sk-label label {\n",
       "  font-family: monospace;\n",
       "  font-weight: bold;\n",
       "  display: inline-block;\n",
       "  line-height: 1.2em;\n",
       "}\n",
       "\n",
       "#sk-container-id-1 div.sk-label-container {\n",
       "  text-align: center;\n",
       "}\n",
       "\n",
       "/* Estimator-specific */\n",
       "#sk-container-id-1 div.sk-estimator {\n",
       "  font-family: monospace;\n",
       "  border: 1px dotted var(--sklearn-color-border-box);\n",
       "  border-radius: 0.25em;\n",
       "  box-sizing: border-box;\n",
       "  margin-bottom: 0.5em;\n",
       "  /* unfitted */\n",
       "  background-color: var(--sklearn-color-unfitted-level-0);\n",
       "}\n",
       "\n",
       "#sk-container-id-1 div.sk-estimator.fitted {\n",
       "  /* fitted */\n",
       "  background-color: var(--sklearn-color-fitted-level-0);\n",
       "}\n",
       "\n",
       "/* on hover */\n",
       "#sk-container-id-1 div.sk-estimator:hover {\n",
       "  /* unfitted */\n",
       "  background-color: var(--sklearn-color-unfitted-level-2);\n",
       "}\n",
       "\n",
       "#sk-container-id-1 div.sk-estimator.fitted:hover {\n",
       "  /* fitted */\n",
       "  background-color: var(--sklearn-color-fitted-level-2);\n",
       "}\n",
       "\n",
       "/* Specification for estimator info (e.g. \"i\" and \"?\") */\n",
       "\n",
       "/* Common style for \"i\" and \"?\" */\n",
       "\n",
       ".sk-estimator-doc-link,\n",
       "a:link.sk-estimator-doc-link,\n",
       "a:visited.sk-estimator-doc-link {\n",
       "  float: right;\n",
       "  font-size: smaller;\n",
       "  line-height: 1em;\n",
       "  font-family: monospace;\n",
       "  background-color: var(--sklearn-color-background);\n",
       "  border-radius: 1em;\n",
       "  height: 1em;\n",
       "  width: 1em;\n",
       "  text-decoration: none !important;\n",
       "  margin-left: 1ex;\n",
       "  /* unfitted */\n",
       "  border: var(--sklearn-color-unfitted-level-1) 1pt solid;\n",
       "  color: var(--sklearn-color-unfitted-level-1);\n",
       "}\n",
       "\n",
       ".sk-estimator-doc-link.fitted,\n",
       "a:link.sk-estimator-doc-link.fitted,\n",
       "a:visited.sk-estimator-doc-link.fitted {\n",
       "  /* fitted */\n",
       "  border: var(--sklearn-color-fitted-level-1) 1pt solid;\n",
       "  color: var(--sklearn-color-fitted-level-1);\n",
       "}\n",
       "\n",
       "/* On hover */\n",
       "div.sk-estimator:hover .sk-estimator-doc-link:hover,\n",
       ".sk-estimator-doc-link:hover,\n",
       "div.sk-label-container:hover .sk-estimator-doc-link:hover,\n",
       ".sk-estimator-doc-link:hover {\n",
       "  /* unfitted */\n",
       "  background-color: var(--sklearn-color-unfitted-level-3);\n",
       "  color: var(--sklearn-color-background);\n",
       "  text-decoration: none;\n",
       "}\n",
       "\n",
       "div.sk-estimator.fitted:hover .sk-estimator-doc-link.fitted:hover,\n",
       ".sk-estimator-doc-link.fitted:hover,\n",
       "div.sk-label-container:hover .sk-estimator-doc-link.fitted:hover,\n",
       ".sk-estimator-doc-link.fitted:hover {\n",
       "  /* fitted */\n",
       "  background-color: var(--sklearn-color-fitted-level-3);\n",
       "  color: var(--sklearn-color-background);\n",
       "  text-decoration: none;\n",
       "}\n",
       "\n",
       "/* Span, style for the box shown on hovering the info icon */\n",
       ".sk-estimator-doc-link span {\n",
       "  display: none;\n",
       "  z-index: 9999;\n",
       "  position: relative;\n",
       "  font-weight: normal;\n",
       "  right: .2ex;\n",
       "  padding: .5ex;\n",
       "  margin: .5ex;\n",
       "  width: min-content;\n",
       "  min-width: 20ex;\n",
       "  max-width: 50ex;\n",
       "  color: var(--sklearn-color-text);\n",
       "  box-shadow: 2pt 2pt 4pt #999;\n",
       "  /* unfitted */\n",
       "  background: var(--sklearn-color-unfitted-level-0);\n",
       "  border: .5pt solid var(--sklearn-color-unfitted-level-3);\n",
       "}\n",
       "\n",
       ".sk-estimator-doc-link.fitted span {\n",
       "  /* fitted */\n",
       "  background: var(--sklearn-color-fitted-level-0);\n",
       "  border: var(--sklearn-color-fitted-level-3);\n",
       "}\n",
       "\n",
       ".sk-estimator-doc-link:hover span {\n",
       "  display: block;\n",
       "}\n",
       "\n",
       "/* \"?\"-specific style due to the `<a>` HTML tag */\n",
       "\n",
       "#sk-container-id-1 a.estimator_doc_link {\n",
       "  float: right;\n",
       "  font-size: 1rem;\n",
       "  line-height: 1em;\n",
       "  font-family: monospace;\n",
       "  background-color: var(--sklearn-color-background);\n",
       "  border-radius: 1rem;\n",
       "  height: 1rem;\n",
       "  width: 1rem;\n",
       "  text-decoration: none;\n",
       "  /* unfitted */\n",
       "  color: var(--sklearn-color-unfitted-level-1);\n",
       "  border: var(--sklearn-color-unfitted-level-1) 1pt solid;\n",
       "}\n",
       "\n",
       "#sk-container-id-1 a.estimator_doc_link.fitted {\n",
       "  /* fitted */\n",
       "  border: var(--sklearn-color-fitted-level-1) 1pt solid;\n",
       "  color: var(--sklearn-color-fitted-level-1);\n",
       "}\n",
       "\n",
       "/* On hover */\n",
       "#sk-container-id-1 a.estimator_doc_link:hover {\n",
       "  /* unfitted */\n",
       "  background-color: var(--sklearn-color-unfitted-level-3);\n",
       "  color: var(--sklearn-color-background);\n",
       "  text-decoration: none;\n",
       "}\n",
       "\n",
       "#sk-container-id-1 a.estimator_doc_link.fitted:hover {\n",
       "  /* fitted */\n",
       "  background-color: var(--sklearn-color-fitted-level-3);\n",
       "}\n",
       "</style><div id=\"sk-container-id-1\" class=\"sk-top-container\"><div class=\"sk-text-repr-fallback\"><pre>SVC()</pre><b>In a Jupyter environment, please rerun this cell to show the HTML representation or trust the notebook. <br />On GitHub, the HTML representation is unable to render, please try loading this page with nbviewer.org.</b></div><div class=\"sk-container\" hidden><div class=\"sk-item\"><div class=\"sk-estimator fitted sk-toggleable\"><input class=\"sk-toggleable__control sk-hidden--visually\" id=\"sk-estimator-id-1\" type=\"checkbox\" checked><label for=\"sk-estimator-id-1\" class=\"sk-toggleable__label fitted sk-toggleable__label-arrow fitted\">&nbsp;&nbsp;SVC<a class=\"sk-estimator-doc-link fitted\" rel=\"noreferrer\" target=\"_blank\" href=\"https://scikit-learn.org/1.4/modules/generated/sklearn.svm.SVC.html\">?<span>Documentation for SVC</span></a><span class=\"sk-estimator-doc-link fitted\">i<span>Fitted</span></span></label><div class=\"sk-toggleable__content fitted\"><pre>SVC()</pre></div> </div></div></div></div>"
      ],
      "text/plain": [
       "SVC()"
      ]
     },
     "execution_count": 17,
     "metadata": {},
     "output_type": "execute_result"
    }
   ],
   "source": [
    "clf = svm.SVC()\n",
    "clf.fit(X_train,y_train)"
   ]
  },
  {
   "cell_type": "code",
   "execution_count": 18,
   "id": "13d4bbe2-e138-47b4-8427-70f5a993c78f",
   "metadata": {},
   "outputs": [
    {
     "data": {
      "text/plain": [
       "0.7073170731707317"
      ]
     },
     "execution_count": 18,
     "metadata": {},
     "output_type": "execute_result"
    }
   ],
   "source": [
    "accuracy_test = accuracy_score(y_test, clf.predict(X_test))\n",
    "accuracy_test"
   ]
  },
  {
   "cell_type": "code",
   "execution_count": 19,
   "id": "e8e7050a-84bb-45c3-88c0-d5de2eb4a349",
   "metadata": {},
   "outputs": [
    {
     "data": {
      "text/plain": [
       "0.7"
      ]
     },
     "execution_count": 19,
     "metadata": {},
     "output_type": "execute_result"
    }
   ],
   "source": [
    "accuracy_train=accuracy_score(y_train, clf.predict(X_train))\n",
    "accuracy_train"
   ]
  },
  {
   "cell_type": "code",
   "execution_count": 20,
   "id": "d4955d02-d2cb-44da-8c6a-9ce64bf58ec4",
   "metadata": {},
   "outputs": [
    {
     "data": {
      "text/plain": [
       "0.7439024390243902"
      ]
     },
     "execution_count": 20,
     "metadata": {},
     "output_type": "execute_result"
    }
   ],
   "source": [
    "## attempting to improve accuracy using kernel functions\n",
    "linear_svc = svm.SVC(kernel='linear')\n",
    "linear_svc.fit(X_train,y_train)\n",
    "linear_accuracy = accuracy_score(y_test, linear_svc.predict(X_test))\n",
    "linear_train_accuracy = accuracy_score(y_train, linear_svc.predict(X_train))\n",
    "linear_accuracy"
   ]
  },
  {
   "cell_type": "code",
   "execution_count": 21,
   "id": "1598bb97-7c3d-4743-9d46-5c41d16bc200",
   "metadata": {},
   "outputs": [
    {
     "data": {
      "text/plain": [
       "0.7368421052631579"
      ]
     },
     "execution_count": 21,
     "metadata": {},
     "output_type": "execute_result"
    }
   ],
   "source": [
    "linear_train_accuracy"
   ]
  },
  {
   "cell_type": "code",
   "execution_count": 22,
   "id": "9f546f24-65d2-4d9e-a496-3fa44a3ec113",
   "metadata": {},
   "outputs": [
    {
     "data": {
      "text/plain": [
       "0.7073170731707317"
      ]
     },
     "execution_count": 22,
     "metadata": {},
     "output_type": "execute_result"
    }
   ],
   "source": [
    "poly_svc = svm.SVC(kernel='poly')\n",
    "poly_svc.fit(X_train,y_train)\n",
    "poly_accuracy = accuracy_score(y_test, poly_svc.predict(X_test))\n",
    "poly_train_accuracy = accuracy_score(y_train, poly_svc.predict(X_train))\n",
    "poly_accuracy"
   ]
  },
  {
   "cell_type": "code",
   "execution_count": 23,
   "id": "160b6183-2002-4f79-ac18-e23d9e34457d",
   "metadata": {},
   "outputs": [
    {
     "data": {
      "text/plain": [
       "0.7"
      ]
     },
     "execution_count": 23,
     "metadata": {},
     "output_type": "execute_result"
    }
   ],
   "source": [
    "poly_train_accuracy"
   ]
  },
  {
   "cell_type": "code",
   "execution_count": 24,
   "id": "5b6a5087-bbe1-489a-8a6d-60ab20814d6c",
   "metadata": {},
   "outputs": [
    {
     "data": {
      "text/plain": [
       "0.7073170731707317"
      ]
     },
     "execution_count": 24,
     "metadata": {},
     "output_type": "execute_result"
    }
   ],
   "source": [
    "rbf_svc = svm.SVC(kernel='rbf')\n",
    "rbf_svc.fit(X_train,y_train)\n",
    "rbf_accuracy = accuracy_score(y_test, rbf_svc.predict(X_test))\n",
    "rbf_train_accuracy = accuracy_score(y_train, rbf_svc.predict(X_train))\n",
    "rbf_accuracy"
   ]
  },
  {
   "cell_type": "code",
   "execution_count": 25,
   "id": "12c9ef41-580c-463c-b815-7b56aacb44c0",
   "metadata": {},
   "outputs": [
    {
     "data": {
      "text/plain": [
       "0.7"
      ]
     },
     "execution_count": 25,
     "metadata": {},
     "output_type": "execute_result"
    }
   ],
   "source": [
    "rbf_train_accuracy"
   ]
  },
  {
   "cell_type": "code",
   "execution_count": 26,
   "id": "0c5e5d0e-4368-4082-adc4-7b0bb2b0e137",
   "metadata": {},
   "outputs": [
    {
     "data": {
      "text/plain": [
       "0.7073170731707317"
      ]
     },
     "execution_count": 26,
     "metadata": {},
     "output_type": "execute_result"
    }
   ],
   "source": [
    "sig_svc = svm.SVC(kernel='sigmoid')\n",
    "sig_svc.fit(X_train,y_train)\n",
    "sig_accuracy = accuracy_score(y_test, sig_svc.predict(X_test))\n",
    "sig_train_accuracy = accuracy_score(y_train, sig_svc.predict(X_train))\n",
    "sig_accuracy"
   ]
  },
  {
   "cell_type": "code",
   "execution_count": 27,
   "id": "b562607c-7c8f-450e-ad69-783b05fed6b0",
   "metadata": {},
   "outputs": [
    {
     "data": {
      "text/plain": [
       "0.7"
      ]
     },
     "execution_count": 27,
     "metadata": {},
     "output_type": "execute_result"
    }
   ],
   "source": [
    "sig_train_accuracy"
   ]
  },
  {
   "cell_type": "code",
   "execution_count": 28,
   "id": "f140967a-e74b-4284-a6f7-dc19bdf3a5fd",
   "metadata": {},
   "outputs": [
    {
     "data": {
      "text/plain": [
       "0.7073170731707317"
      ]
     },
     "execution_count": 28,
     "metadata": {},
     "output_type": "execute_result"
    }
   ],
   "source": [
    "## trying to optimize our polynomial svm, default degree is 3\n",
    "poly_svc2 = svm.SVC(kernel='poly', degree = 12)\n",
    "poly_svc2.fit(X_train,y_train)\n",
    "poly_accuracy2 = accuracy_score(y_test, poly_svc2.predict(X_test))\n",
    "poly_train_accuracy2 = accuracy_score(y_train, poly_svc2.predict(X_train))\n",
    "poly_accuracy2"
   ]
  },
  {
   "cell_type": "code",
   "execution_count": 29,
   "id": "51914a79-65e0-4a88-821b-5d38ee5a4b6f",
   "metadata": {},
   "outputs": [
    {
     "data": {
      "text/plain": [
       "0.7421052631578947"
      ]
     },
     "execution_count": 29,
     "metadata": {},
     "output_type": "execute_result"
    }
   ],
   "source": [
    "poly_train_accuracy2"
   ]
  },
  {
   "cell_type": "code",
   "execution_count": 30,
   "id": "ffd5567d-e792-4bd8-9830-f4557396ea65",
   "metadata": {},
   "outputs": [
    {
     "data": {
      "text/plain": [
       "0.6707317073170732"
      ]
     },
     "execution_count": 30,
     "metadata": {},
     "output_type": "execute_result"
    }
   ],
   "source": [
    "## trying to see what polynomial degree leads to overfitting\n",
    "poly_svc3 = svm.SVC(kernel='poly', degree = 18)\n",
    "poly_svc3.fit(X_train,y_train)\n",
    "poly_accuracy3 = accuracy_score(y_test, poly_svc3.predict(X_test))\n",
    "poly_train_accuracy3 = accuracy_score(y_train, poly_svc3.predict(X_train))\n",
    "poly_accuracy3"
   ]
  },
  {
   "cell_type": "code",
   "execution_count": 31,
   "id": "46d0705d-11eb-49da-9b91-0b5919108824",
   "metadata": {},
   "outputs": [
    {
     "data": {
      "text/plain": [
       "0.7578947368421053"
      ]
     },
     "execution_count": 31,
     "metadata": {},
     "output_type": "execute_result"
    }
   ],
   "source": [
    "poly_train_accuracy3"
   ]
  },
  {
   "cell_type": "code",
   "execution_count": 32,
   "id": "e0a163e7-caa8-49e6-812b-9f2b666807e7",
   "metadata": {},
   "outputs": [],
   "source": [
    "param_grid = {\n",
    "    \"C\" : np.arange(start=1, stop=3),\n",
    "    \"kernel\" : [\"poly\",\"rbf\",\"sigmoid\"],\n",
    "    \"gamma\" : [\"scale\",\"auto\"]\n",
    "}\n",
    "model = svm.SVC()\n",
    "opt = GridSearchCV(model, param_grid, cv=5, n_jobs=8, scoring=\"recall\")"
   ]
  },
  {
   "cell_type": "code",
   "execution_count": 33,
   "id": "1e5913cd-2d2c-4636-b536-e41e99884e09",
   "metadata": {},
   "outputs": [
    {
     "data": {
      "text/plain": [
       "{'C': 2, 'gamma': 'auto', 'kernel': 'poly'}"
      ]
     },
     "execution_count": 33,
     "metadata": {},
     "output_type": "execute_result"
    }
   ],
   "source": [
    "opt.fit(X_train,y_train)\n",
    "opt.best_params_"
   ]
  },
  {
   "cell_type": "code",
   "execution_count": 34,
   "id": "d437c2f7-8c3f-4b1c-9ec2-2f2518bd3fd6",
   "metadata": {},
   "outputs": [
    {
     "data": {
      "text/plain": [
       "0.6219512195121951"
      ]
     },
     "execution_count": 34,
     "metadata": {},
     "output_type": "execute_result"
    }
   ],
   "source": [
    "opt_accuracy = accuracy_score(y_test, opt.predict(X_test))\n",
    "opt_train_accuracy = accuracy_score(y_train, opt.predict(X_train))\n",
    "opt_accuracy"
   ]
  },
  {
   "cell_type": "code",
   "execution_count": 35,
   "id": "e72a0a0c-3b89-4de8-b6cf-fc09b11c32bb",
   "metadata": {},
   "outputs": [
    {
     "data": {
      "text/plain": [
       "0.8052631578947368"
      ]
     },
     "execution_count": 35,
     "metadata": {},
     "output_type": "execute_result"
    }
   ],
   "source": [
    "opt_train_accuracy"
   ]
  },
  {
   "cell_type": "code",
   "execution_count": 36,
   "id": "ca1e1254-4d66-4cbb-877e-8f2636ff0cff",
   "metadata": {},
   "outputs": [
    {
     "data": {
      "text/plain": [
       "{'C': 1, 'gamma': 'scale', 'kernel': 'poly'}"
      ]
     },
     "execution_count": 36,
     "metadata": {},
     "output_type": "execute_result"
    }
   ],
   "source": [
    "model1 = svm.SVC()\n",
    "opt1 = GridSearchCV(model1, param_grid, cv=5, n_jobs=8, scoring=\"accuracy\")\n",
    "opt1.fit(X_train,y_train)\n",
    "opt1.best_params_"
   ]
  },
  {
   "cell_type": "code",
   "execution_count": 37,
   "id": "849c6a36-f41b-4fd8-98d5-4737990dac30",
   "metadata": {},
   "outputs": [
    {
     "data": {
      "text/plain": [
       "0.7073170731707317"
      ]
     },
     "execution_count": 37,
     "metadata": {},
     "output_type": "execute_result"
    }
   ],
   "source": [
    "opt1_accuracy = accuracy_score(y_test, opt1.predict(X_test))\n",
    "opt1_train_accuracy = accuracy_score(y_train, opt1.predict(X_train))\n",
    "opt1_accuracy"
   ]
  },
  {
   "cell_type": "code",
   "execution_count": 38,
   "id": "4e32eaf7-71b6-4a34-b61d-36a434804218",
   "metadata": {},
   "outputs": [
    {
     "data": {
      "text/plain": [
       "0.7"
      ]
     },
     "execution_count": 38,
     "metadata": {},
     "output_type": "execute_result"
    }
   ],
   "source": [
    "opt1_train_accuracy"
   ]
  },
  {
   "cell_type": "code",
   "execution_count": 42,
   "id": "d9494cec-0b46-4c5a-9516-6ed70c9c6905",
   "metadata": {},
   "outputs": [
    {
     "name": "stdout",
     "output_type": "stream",
     "text": [
      "SVM REPORTS\n",
      "\n",
      "Performance on TEST with Optimized Recall\n",
      "*******************\n",
      "              precision    recall  f1-score   support\n",
      "\n",
      "       False       0.72      0.76      0.74        58\n",
      "        True       0.33      0.29      0.31        24\n",
      "\n",
      "    accuracy                           0.62        82\n",
      "   macro avg       0.53      0.53      0.53        82\n",
      "weighted avg       0.61      0.62      0.61        82\n",
      "\n",
      "Performance on TRAIN with Optimized Recall\n",
      "********************\n",
      "              precision    recall  f1-score   support\n",
      "\n",
      "       False       0.83      0.90      0.87       133\n",
      "        True       0.72      0.58      0.64        57\n",
      "\n",
      "    accuracy                           0.81       190\n",
      "   macro avg       0.78      0.74      0.75       190\n",
      "weighted avg       0.80      0.81      0.80       190\n",
      "\n"
     ]
    }
   ],
   "source": [
    "print(f\"SVM REPORTS\\n\")\n",
    "print(f\"Performance on TEST with Optimized Recall\\n*******************\\n{classification_report(y_test, opt.predict(X_test))}\")\n",
    "print(f\"Performance on TRAIN with Optimized Recall\\n********************\\n{classification_report(y_train, opt.predict(X_train))}\")"
   ]
  },
  {
   "cell_type": "code",
   "execution_count": 44,
   "id": "059d61e7-8b0e-4537-a7e4-7d1cbddfb590",
   "metadata": {},
   "outputs": [
    {
     "name": "stdout",
     "output_type": "stream",
     "text": [
      "Performance on TEST with Optimized Accuracy\n",
      "*******************\n",
      "              precision    recall  f1-score   support\n",
      "\n",
      "       False       0.71      1.00      0.83        58\n",
      "        True       0.00      0.00      0.00        24\n",
      "\n",
      "    accuracy                           0.71        82\n",
      "   macro avg       0.35      0.50      0.41        82\n",
      "weighted avg       0.50      0.71      0.59        82\n",
      "\n",
      "Performance on TRAIN with Optimized Accuracy\n",
      "********************\n",
      "              precision    recall  f1-score   support\n",
      "\n",
      "       False       0.70      1.00      0.82       133\n",
      "        True       0.00      0.00      0.00        57\n",
      "\n",
      "    accuracy                           0.70       190\n",
      "   macro avg       0.35      0.50      0.41       190\n",
      "weighted avg       0.49      0.70      0.58       190\n",
      "\n"
     ]
    },
    {
     "name": "stderr",
     "output_type": "stream",
     "text": [
      "/usr/local/lib/python3.11/site-packages/sklearn/metrics/_classification.py:1509: UndefinedMetricWarning: Precision is ill-defined and being set to 0.0 in labels with no predicted samples. Use `zero_division` parameter to control this behavior.\n",
      "  _warn_prf(average, modifier, f\"{metric.capitalize()} is\", len(result))\n",
      "/usr/local/lib/python3.11/site-packages/sklearn/metrics/_classification.py:1509: UndefinedMetricWarning: Precision is ill-defined and being set to 0.0 in labels with no predicted samples. Use `zero_division` parameter to control this behavior.\n",
      "  _warn_prf(average, modifier, f\"{metric.capitalize()} is\", len(result))\n",
      "/usr/local/lib/python3.11/site-packages/sklearn/metrics/_classification.py:1509: UndefinedMetricWarning: Precision is ill-defined and being set to 0.0 in labels with no predicted samples. Use `zero_division` parameter to control this behavior.\n",
      "  _warn_prf(average, modifier, f\"{metric.capitalize()} is\", len(result))\n",
      "/usr/local/lib/python3.11/site-packages/sklearn/metrics/_classification.py:1509: UndefinedMetricWarning: Precision is ill-defined and being set to 0.0 in labels with no predicted samples. Use `zero_division` parameter to control this behavior.\n",
      "  _warn_prf(average, modifier, f\"{metric.capitalize()} is\", len(result))\n",
      "/usr/local/lib/python3.11/site-packages/sklearn/metrics/_classification.py:1509: UndefinedMetricWarning: Precision is ill-defined and being set to 0.0 in labels with no predicted samples. Use `zero_division` parameter to control this behavior.\n",
      "  _warn_prf(average, modifier, f\"{metric.capitalize()} is\", len(result))\n",
      "/usr/local/lib/python3.11/site-packages/sklearn/metrics/_classification.py:1509: UndefinedMetricWarning: Precision is ill-defined and being set to 0.0 in labels with no predicted samples. Use `zero_division` parameter to control this behavior.\n",
      "  _warn_prf(average, modifier, f\"{metric.capitalize()} is\", len(result))\n"
     ]
    }
   ],
   "source": [
    "print(f\"Performance on TEST with Optimized Accuracy\\n*******************\\n{classification_report(y_test, opt1.predict(X_test))}\")\n",
    "print(f\"Performance on TRAIN with Optimized Accuracy\\n********************\\n{classification_report(y_train, opt1.predict(X_train))}\")\n"
   ]
  },
  {
   "cell_type": "code",
   "execution_count": 40,
   "id": "94608494-75d8-4c52-806d-ac78f2de3c9b",
   "metadata": {},
   "outputs": [],
   "source": [
    "import pickle\n",
    "with open('acc_svm', 'wb') as f:\n",
    "    pickle.dump(opt1,f)\n",
    "with open('recall_svm', 'wb') as f:\n",
    "    pickle.dump(opt,f)"
   ]
  }
 ],
 "metadata": {
  "kernelspec": {
   "display_name": "Python 3 (ipykernel)",
   "language": "python",
   "name": "python3"
  },
  "language_info": {
   "codemirror_mode": {
    "name": "ipython",
    "version": 3
   },
   "file_extension": ".py",
   "mimetype": "text/x-python",
   "name": "python",
   "nbconvert_exporter": "python",
   "pygments_lexer": "ipython3",
   "version": "3.11.1"
  }
 },
 "nbformat": 4,
 "nbformat_minor": 5
}
