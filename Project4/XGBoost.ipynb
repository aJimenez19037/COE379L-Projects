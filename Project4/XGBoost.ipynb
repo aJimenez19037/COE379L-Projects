{
 "cells": [
  {
   "cell_type": "code",
   "execution_count": 1,
   "id": "d91f142d-a78a-4601-a2a6-566f75c7cc43",
   "metadata": {},
   "outputs": [],
   "source": [
    "import pandas as pd\n",
    "import numpy as np\n",
    "import seaborn as sns\n",
    "import matplotlib.pyplot as plt\n",
    "import sklearn \n",
    "from sklearn.model_selection import train_test_split, GridSearchCV\n",
    "from sklearn import svm\n",
    "from sklearn.metrics import accuracy_score, recall_score, precision_score, f1_score, classification_report\n",
    "data = pd.read_csv(\"project4.csv\")"
   ]
  },
  {
   "cell_type": "code",
   "execution_count": 2,
   "id": "0965e7a6-4165-4014-983e-71ac557f4488",
   "metadata": {},
   "outputs": [
    {
     "data": {
      "text/html": [
       "<div>\n",
       "<style scoped>\n",
       "    .dataframe tbody tr th:only-of-type {\n",
       "        vertical-align: middle;\n",
       "    }\n",
       "\n",
       "    .dataframe tbody tr th {\n",
       "        vertical-align: top;\n",
       "    }\n",
       "\n",
       "    .dataframe thead th {\n",
       "        text-align: right;\n",
       "    }\n",
       "</style>\n",
       "<table border=\"1\" class=\"dataframe\">\n",
       "  <thead>\n",
       "    <tr style=\"text-align: right;\">\n",
       "      <th></th>\n",
       "      <th>class</th>\n",
       "      <th>age</th>\n",
       "      <th>menopause</th>\n",
       "      <th>tumor-size</th>\n",
       "      <th>inv-nodes</th>\n",
       "      <th>node-caps</th>\n",
       "      <th>deg-malig</th>\n",
       "      <th>breast</th>\n",
       "      <th>breast-quad</th>\n",
       "      <th>irradiat</th>\n",
       "    </tr>\n",
       "  </thead>\n",
       "  <tbody>\n",
       "    <tr>\n",
       "      <th>0</th>\n",
       "      <td>no-recurrence-events</td>\n",
       "      <td>30-39</td>\n",
       "      <td>premeno</td>\n",
       "      <td>30-34</td>\n",
       "      <td>0-2</td>\n",
       "      <td>no</td>\n",
       "      <td>3</td>\n",
       "      <td>left</td>\n",
       "      <td>left_low</td>\n",
       "      <td>no</td>\n",
       "    </tr>\n",
       "    <tr>\n",
       "      <th>1</th>\n",
       "      <td>no-recurrence-events</td>\n",
       "      <td>40-49</td>\n",
       "      <td>premeno</td>\n",
       "      <td>20-24</td>\n",
       "      <td>0-2</td>\n",
       "      <td>no</td>\n",
       "      <td>2</td>\n",
       "      <td>right</td>\n",
       "      <td>right_up</td>\n",
       "      <td>no</td>\n",
       "    </tr>\n",
       "    <tr>\n",
       "      <th>2</th>\n",
       "      <td>no-recurrence-events</td>\n",
       "      <td>40-49</td>\n",
       "      <td>premeno</td>\n",
       "      <td>20-24</td>\n",
       "      <td>0-2</td>\n",
       "      <td>no</td>\n",
       "      <td>2</td>\n",
       "      <td>left</td>\n",
       "      <td>left_low</td>\n",
       "      <td>no</td>\n",
       "    </tr>\n",
       "    <tr>\n",
       "      <th>3</th>\n",
       "      <td>no-recurrence-events</td>\n",
       "      <td>60-69</td>\n",
       "      <td>ge40</td>\n",
       "      <td>15-19</td>\n",
       "      <td>0-2</td>\n",
       "      <td>no</td>\n",
       "      <td>2</td>\n",
       "      <td>right</td>\n",
       "      <td>left_up</td>\n",
       "      <td>no</td>\n",
       "    </tr>\n",
       "    <tr>\n",
       "      <th>4</th>\n",
       "      <td>no-recurrence-events</td>\n",
       "      <td>40-49</td>\n",
       "      <td>premeno</td>\n",
       "      <td>0-4</td>\n",
       "      <td>0-2</td>\n",
       "      <td>no</td>\n",
       "      <td>2</td>\n",
       "      <td>right</td>\n",
       "      <td>right_low</td>\n",
       "      <td>no</td>\n",
       "    </tr>\n",
       "  </tbody>\n",
       "</table>\n",
       "</div>"
      ],
      "text/plain": [
       "                  class    age menopause tumor-size inv-nodes node-caps  \\\n",
       "0  no-recurrence-events  30-39   premeno      30-34       0-2        no   \n",
       "1  no-recurrence-events  40-49   premeno      20-24       0-2        no   \n",
       "2  no-recurrence-events  40-49   premeno      20-24       0-2        no   \n",
       "3  no-recurrence-events  60-69      ge40      15-19       0-2        no   \n",
       "4  no-recurrence-events  40-49   premeno        0-4       0-2        no   \n",
       "\n",
       "   deg-malig breast breast-quad irradiat  \n",
       "0          3   left    left_low       no  \n",
       "1          2  right    right_up       no  \n",
       "2          2   left    left_low       no  \n",
       "3          2  right     left_up       no  \n",
       "4          2  right   right_low       no  "
      ]
     },
     "execution_count": 2,
     "metadata": {},
     "output_type": "execute_result"
    }
   ],
   "source": [
    "data.head()"
   ]
  },
  {
   "cell_type": "code",
   "execution_count": 3,
   "id": "7f1564e6-8d15-4bc8-88fb-e87a3f19c7e9",
   "metadata": {},
   "outputs": [
    {
     "data": {
      "text/plain": [
       "(286, 10)"
      ]
     },
     "execution_count": 3,
     "metadata": {},
     "output_type": "execute_result"
    }
   ],
   "source": [
    "data.shape"
   ]
  },
  {
   "cell_type": "code",
   "execution_count": 4,
   "id": "cd5226ab-8030-4947-ae12-161b3f3e4ae8",
   "metadata": {},
   "outputs": [
    {
     "data": {
      "text/plain": [
       "2860"
      ]
     },
     "execution_count": 4,
     "metadata": {},
     "output_type": "execute_result"
    }
   ],
   "source": [
    "data.size"
   ]
  },
  {
   "cell_type": "code",
   "execution_count": 5,
   "id": "3056a214-3504-4498-8fe2-980ef6aa3ad3",
   "metadata": {},
   "outputs": [
    {
     "name": "stdout",
     "output_type": "stream",
     "text": [
      "<class 'pandas.core.frame.DataFrame'>\n",
      "RangeIndex: 286 entries, 0 to 285\n",
      "Data columns (total 10 columns):\n",
      " #   Column       Non-Null Count  Dtype \n",
      "---  ------       --------------  ----- \n",
      " 0   class        286 non-null    object\n",
      " 1   age          286 non-null    object\n",
      " 2   menopause    286 non-null    object\n",
      " 3   tumor-size   286 non-null    object\n",
      " 4   inv-nodes    286 non-null    object\n",
      " 5   node-caps    286 non-null    object\n",
      " 6   deg-malig    286 non-null    int64 \n",
      " 7   breast       286 non-null    object\n",
      " 8   breast-quad  286 non-null    object\n",
      " 9   irradiat     286 non-null    object\n",
      "dtypes: int64(1), object(9)\n",
      "memory usage: 22.5+ KB\n"
     ]
    }
   ],
   "source": [
    "data.info() # no null values"
   ]
  },
  {
   "cell_type": "code",
   "execution_count": 6,
   "id": "d160b9b2-d49f-464a-98c7-83f575599333",
   "metadata": {},
   "outputs": [
    {
     "data": {
      "text/html": [
       "<div>\n",
       "<style scoped>\n",
       "    .dataframe tbody tr th:only-of-type {\n",
       "        vertical-align: middle;\n",
       "    }\n",
       "\n",
       "    .dataframe tbody tr th {\n",
       "        vertical-align: top;\n",
       "    }\n",
       "\n",
       "    .dataframe thead th {\n",
       "        text-align: right;\n",
       "    }\n",
       "</style>\n",
       "<table border=\"1\" class=\"dataframe\">\n",
       "  <thead>\n",
       "    <tr style=\"text-align: right;\">\n",
       "      <th></th>\n",
       "      <th>deg-malig</th>\n",
       "    </tr>\n",
       "  </thead>\n",
       "  <tbody>\n",
       "    <tr>\n",
       "      <th>count</th>\n",
       "      <td>286.000000</td>\n",
       "    </tr>\n",
       "    <tr>\n",
       "      <th>mean</th>\n",
       "      <td>2.048951</td>\n",
       "    </tr>\n",
       "    <tr>\n",
       "      <th>std</th>\n",
       "      <td>0.738217</td>\n",
       "    </tr>\n",
       "    <tr>\n",
       "      <th>min</th>\n",
       "      <td>1.000000</td>\n",
       "    </tr>\n",
       "    <tr>\n",
       "      <th>25%</th>\n",
       "      <td>2.000000</td>\n",
       "    </tr>\n",
       "    <tr>\n",
       "      <th>50%</th>\n",
       "      <td>2.000000</td>\n",
       "    </tr>\n",
       "    <tr>\n",
       "      <th>75%</th>\n",
       "      <td>3.000000</td>\n",
       "    </tr>\n",
       "    <tr>\n",
       "      <th>max</th>\n",
       "      <td>3.000000</td>\n",
       "    </tr>\n",
       "  </tbody>\n",
       "</table>\n",
       "</div>"
      ],
      "text/plain": [
       "        deg-malig\n",
       "count  286.000000\n",
       "mean     2.048951\n",
       "std      0.738217\n",
       "min      1.000000\n",
       "25%      2.000000\n",
       "50%      2.000000\n",
       "75%      3.000000\n",
       "max      3.000000"
      ]
     },
     "execution_count": 6,
     "metadata": {},
     "output_type": "execute_result"
    }
   ],
   "source": [
    "data.describe()"
   ]
  },
  {
   "cell_type": "code",
   "execution_count": 7,
   "id": "b8c2acef-5998-4a4d-9b78-dcd2b3b8f906",
   "metadata": {},
   "outputs": [],
   "source": [
    "def replace(s):\n",
    "    x = s.split('-')\n",
    "    x1 = int(x[0])\n",
    "    x2 = int(x[1])\n",
    "    return (x1+x2)/2 "
   ]
  },
  {
   "cell_type": "code",
   "execution_count": 8,
   "id": "d14accee-7dc3-4611-9dbf-0f6c1a63844f",
   "metadata": {},
   "outputs": [],
   "source": [
    "data['age'] = data['age'].apply(replace).astype(float)\n",
    "data['tumor-size'] = data['tumor-size'].apply(replace).astype(float)\n",
    "data['inv-nodes'] = data['inv-nodes'].apply(replace).astype(float)"
   ]
  },
  {
   "cell_type": "code",
   "execution_count": 9,
   "id": "1bbebdf6-e7fc-4840-8a8b-2e90c5a64e08",
   "metadata": {},
   "outputs": [
    {
     "data": {
      "text/plain": [
       "(285, 10)"
      ]
     },
     "execution_count": 9,
     "metadata": {},
     "output_type": "execute_result"
    }
   ],
   "source": [
    "data[data['breast-quad'] == \"?\"] # just one row is missing data and there is no way to get the value so we will just remove it\n",
    "data = data.drop([206])\n",
    "data[data['breast-quad'] == \"?\"]\n",
    "data.shape # one row was removed"
   ]
  },
  {
   "cell_type": "code",
   "execution_count": 10,
   "id": "d318422d-07aa-4739-9a47-2f577b2df1cd",
   "metadata": {},
   "outputs": [
    {
     "data": {
      "text/html": [
       "<div>\n",
       "<style scoped>\n",
       "    .dataframe tbody tr th:only-of-type {\n",
       "        vertical-align: middle;\n",
       "    }\n",
       "\n",
       "    .dataframe tbody tr th {\n",
       "        vertical-align: top;\n",
       "    }\n",
       "\n",
       "    .dataframe thead th {\n",
       "        text-align: right;\n",
       "    }\n",
       "</style>\n",
       "<table border=\"1\" class=\"dataframe\">\n",
       "  <thead>\n",
       "    <tr style=\"text-align: right;\">\n",
       "      <th></th>\n",
       "      <th>class</th>\n",
       "      <th>age</th>\n",
       "      <th>menopause</th>\n",
       "      <th>tumor-size</th>\n",
       "      <th>inv-nodes</th>\n",
       "      <th>node-caps</th>\n",
       "      <th>deg-malig</th>\n",
       "      <th>breast</th>\n",
       "      <th>breast-quad</th>\n",
       "      <th>irradiat</th>\n",
       "    </tr>\n",
       "  </thead>\n",
       "  <tbody>\n",
       "    <tr>\n",
       "      <th>145</th>\n",
       "      <td>no-recurrence-events</td>\n",
       "      <td>44.5</td>\n",
       "      <td>premeno</td>\n",
       "      <td>27.0</td>\n",
       "      <td>1.0</td>\n",
       "      <td>?</td>\n",
       "      <td>2</td>\n",
       "      <td>left</td>\n",
       "      <td>right_low</td>\n",
       "      <td>yes</td>\n",
       "    </tr>\n",
       "    <tr>\n",
       "      <th>163</th>\n",
       "      <td>no-recurrence-events</td>\n",
       "      <td>64.5</td>\n",
       "      <td>ge40</td>\n",
       "      <td>27.0</td>\n",
       "      <td>4.0</td>\n",
       "      <td>?</td>\n",
       "      <td>1</td>\n",
       "      <td>right</td>\n",
       "      <td>left_up</td>\n",
       "      <td>yes</td>\n",
       "    </tr>\n",
       "    <tr>\n",
       "      <th>164</th>\n",
       "      <td>no-recurrence-events</td>\n",
       "      <td>64.5</td>\n",
       "      <td>ge40</td>\n",
       "      <td>27.0</td>\n",
       "      <td>4.0</td>\n",
       "      <td>?</td>\n",
       "      <td>1</td>\n",
       "      <td>right</td>\n",
       "      <td>left_low</td>\n",
       "      <td>yes</td>\n",
       "    </tr>\n",
       "    <tr>\n",
       "      <th>183</th>\n",
       "      <td>no-recurrence-events</td>\n",
       "      <td>54.5</td>\n",
       "      <td>ge40</td>\n",
       "      <td>32.0</td>\n",
       "      <td>10.0</td>\n",
       "      <td>?</td>\n",
       "      <td>3</td>\n",
       "      <td>left</td>\n",
       "      <td>left_up</td>\n",
       "      <td>yes</td>\n",
       "    </tr>\n",
       "    <tr>\n",
       "      <th>184</th>\n",
       "      <td>no-recurrence-events</td>\n",
       "      <td>54.5</td>\n",
       "      <td>ge40</td>\n",
       "      <td>32.0</td>\n",
       "      <td>10.0</td>\n",
       "      <td>?</td>\n",
       "      <td>3</td>\n",
       "      <td>left</td>\n",
       "      <td>left_low</td>\n",
       "      <td>yes</td>\n",
       "    </tr>\n",
       "    <tr>\n",
       "      <th>233</th>\n",
       "      <td>recurrence-events</td>\n",
       "      <td>74.5</td>\n",
       "      <td>ge40</td>\n",
       "      <td>17.0</td>\n",
       "      <td>10.0</td>\n",
       "      <td>?</td>\n",
       "      <td>1</td>\n",
       "      <td>left</td>\n",
       "      <td>left_low</td>\n",
       "      <td>yes</td>\n",
       "    </tr>\n",
       "    <tr>\n",
       "      <th>263</th>\n",
       "      <td>recurrence-events</td>\n",
       "      <td>54.5</td>\n",
       "      <td>lt40</td>\n",
       "      <td>22.0</td>\n",
       "      <td>1.0</td>\n",
       "      <td>?</td>\n",
       "      <td>1</td>\n",
       "      <td>left</td>\n",
       "      <td>left_up</td>\n",
       "      <td>no</td>\n",
       "    </tr>\n",
       "    <tr>\n",
       "      <th>264</th>\n",
       "      <td>recurrence-events</td>\n",
       "      <td>54.5</td>\n",
       "      <td>lt40</td>\n",
       "      <td>22.0</td>\n",
       "      <td>1.0</td>\n",
       "      <td>?</td>\n",
       "      <td>1</td>\n",
       "      <td>left</td>\n",
       "      <td>left_low</td>\n",
       "      <td>no</td>\n",
       "    </tr>\n",
       "  </tbody>\n",
       "</table>\n",
       "</div>"
      ],
      "text/plain": [
       "                    class   age menopause  tumor-size  inv-nodes node-caps  \\\n",
       "145  no-recurrence-events  44.5   premeno        27.0        1.0         ?   \n",
       "163  no-recurrence-events  64.5      ge40        27.0        4.0         ?   \n",
       "164  no-recurrence-events  64.5      ge40        27.0        4.0         ?   \n",
       "183  no-recurrence-events  54.5      ge40        32.0       10.0         ?   \n",
       "184  no-recurrence-events  54.5      ge40        32.0       10.0         ?   \n",
       "233     recurrence-events  74.5      ge40        17.0       10.0         ?   \n",
       "263     recurrence-events  54.5      lt40        22.0        1.0         ?   \n",
       "264     recurrence-events  54.5      lt40        22.0        1.0         ?   \n",
       "\n",
       "     deg-malig breast breast-quad irradiat  \n",
       "145          2   left   right_low      yes  \n",
       "163          1  right     left_up      yes  \n",
       "164          1  right    left_low      yes  \n",
       "183          3   left     left_up      yes  \n",
       "184          3   left    left_low      yes  \n",
       "233          1   left    left_low      yes  \n",
       "263          1   left     left_up       no  \n",
       "264          1   left    left_low       no  "
      ]
     },
     "execution_count": 10,
     "metadata": {},
     "output_type": "execute_result"
    }
   ],
   "source": [
    "data[data['node-caps'] == \"?\"] # repeat for node-caps since there does not seem to be one thing that tells us if it should be yes or no"
   ]
  },
  {
   "cell_type": "code",
   "execution_count": 11,
   "id": "970ba0cf-56dc-4167-a511-e03d14903a93",
   "metadata": {},
   "outputs": [],
   "source": [
    "data.drop(data[data['node-caps'] == \"?\"].index,inplace=True)"
   ]
  },
  {
   "cell_type": "code",
   "execution_count": 12,
   "id": "6e48515c-ab3e-4412-ba96-dc130b0c4430",
   "metadata": {},
   "outputs": [
    {
     "data": {
      "text/plain": [
       "(263, 10)"
      ]
     },
     "execution_count": 12,
     "metadata": {},
     "output_type": "execute_result"
    }
   ],
   "source": [
    "data.drop_duplicates(inplace=True, ignore_index=True)\n",
    "data.shape # eliminated 14 duplicates"
   ]
  },
  {
   "cell_type": "code",
   "execution_count": 13,
   "id": "2ed42288-1f95-4465-852d-161301a5c4c0",
   "metadata": {},
   "outputs": [
    {
     "name": "stdout",
     "output_type": "stream",
     "text": [
      "<class 'pandas.core.frame.DataFrame'>\n",
      "RangeIndex: 263 entries, 0 to 262\n",
      "Data columns (total 10 columns):\n",
      " #   Column       Non-Null Count  Dtype   \n",
      "---  ------       --------------  -----   \n",
      " 0   class        263 non-null    category\n",
      " 1   age          263 non-null    float64 \n",
      " 2   menopause    263 non-null    category\n",
      " 3   tumor-size   263 non-null    float64 \n",
      " 4   inv-nodes    263 non-null    float64 \n",
      " 5   node-caps    263 non-null    category\n",
      " 6   deg-malig    263 non-null    int64   \n",
      " 7   breast       263 non-null    category\n",
      " 8   breast-quad  263 non-null    category\n",
      " 9   irradiat     263 non-null    category\n",
      "dtypes: category(6), float64(3), int64(1)\n",
      "memory usage: 10.7 KB\n"
     ]
    }
   ],
   "source": [
    "data['class'] = data['class'].astype('category')\n",
    "data['menopause'] = data['menopause'].astype('category')\n",
    "data['node-caps'] = data['node-caps'].astype('category')\n",
    "data['breast'] = data['breast'].astype('category')\n",
    "data['breast-quad'] = data['breast-quad'].astype('category')\n",
    "data['irradiat'] = data['irradiat'].astype('category')\n",
    "data.info()"
   ]
  },
  {
   "cell_type": "code",
   "execution_count": 14,
   "id": "d66bfb5b-60ab-4bf4-941a-a9a47c16a0c6",
   "metadata": {},
   "outputs": [
    {
     "data": {
      "text/plain": [
       "(263, 14)"
      ]
     },
     "execution_count": 14,
     "metadata": {},
     "output_type": "execute_result"
    }
   ],
   "source": [
    "data = pd.get_dummies(data, columns=[\"class\", \"menopause\", \"node-caps\",\"breast\",\"breast-quad\",\"irradiat\"], drop_first=True)\n",
    "data.shape"
   ]
  },
  {
   "cell_type": "code",
   "execution_count": 15,
   "id": "7fe6e7fd-0ae5-40c8-a199-a3209a1baf89",
   "metadata": {},
   "outputs": [],
   "source": [
    "X = data.drop('class_recurrence-events', axis=1)\n",
    "y = data['class_recurrence-events']\n",
    "x_train, x_test, y_train, y_test = train_test_split(X, y, test_size=0.3, stratify=y, random_state=1)"
   ]
  },
  {
   "cell_type": "code",
   "execution_count": 16,
   "id": "3496fed5-e441-4352-a337-a32ef74238dd",
   "metadata": {},
   "outputs": [
    {
     "name": "stdout",
     "output_type": "stream",
     "text": [
      "Collecting xgboost\n",
      "  Downloading xgboost-2.0.3-py3-none-manylinux2014_x86_64.whl (297.1 MB)\n",
      "\u001b[2K     \u001b[90m━━━━━━━━━━━━━━━━━━━━━━━━━━━━━━━━━━━━━━━\u001b[0m \u001b[32m297.1/297.1 MB\u001b[0m \u001b[31m2.6 MB/s\u001b[0m eta \u001b[36m0:00:00\u001b[0m00:01\u001b[0m00:01\u001b[0m\n",
      "\u001b[?25hRequirement already satisfied: numpy in /usr/local/lib/python3.11/site-packages (from xgboost) (1.26.4)\n",
      "Requirement already satisfied: scipy in /usr/local/lib/python3.11/site-packages (from xgboost) (1.12.0)\n",
      "Installing collected packages: xgboost\n",
      "Successfully installed xgboost-2.0.3\n",
      "\u001b[33mWARNING: Running pip as the 'root' user can result in broken permissions and conflicting behaviour with the system package manager. It is recommended to use a virtual environment instead: https://pip.pypa.io/warnings/venv\u001b[0m\u001b[33m\n",
      "\u001b[0m\n",
      "\u001b[1m[\u001b[0m\u001b[34;49mnotice\u001b[0m\u001b[1;39;49m]\u001b[0m\u001b[39;49m A new release of pip available: \u001b[0m\u001b[31;49m22.3.1\u001b[0m\u001b[39;49m -> \u001b[0m\u001b[32;49m24.0\u001b[0m\n",
      "\u001b[1m[\u001b[0m\u001b[34;49mnotice\u001b[0m\u001b[1;39;49m]\u001b[0m\u001b[39;49m To update, run: \u001b[0m\u001b[32;49mpip install --upgrade pip\u001b[0m\n",
      "Note: you may need to restart the kernel to use updated packages.\n"
     ]
    }
   ],
   "source": [
    "pip install xgboost"
   ]
  },
  {
   "cell_type": "code",
   "execution_count": 17,
   "id": "353c088a-64de-4b8a-a4f1-d8f3c35f4b2e",
   "metadata": {},
   "outputs": [],
   "source": [
    "import xgboost as xgb"
   ]
  },
  {
   "cell_type": "code",
   "execution_count": 18,
   "id": "e2f3a4b4-a920-4789-b768-fb7d52a10a1e",
   "metadata": {},
   "outputs": [
    {
     "name": "stdout",
     "output_type": "stream",
     "text": [
      "Best set of hyperparameters:  {'colsample_bytree': 0.9, 'gamma': 0.2, 'learning_rate': 0.1, 'max_depth': 3, 'min_child_weight': 3, 'reg_alpha': 0, 'reg_lambda': 2, 'subsample': 1.0}\n",
      "Best score:  0.821021021021021\n"
     ]
    }
   ],
   "source": [
    "param_grid = {\n",
    "    'learning_rate': [0.01, 0.1, 0.2],\n",
    "    'max_depth': [3, 5, 7],\n",
    "    'min_child_weight': [1, 3, 5],\n",
    "    'subsample': [0.8, 0.9, 1.0],\n",
    "    'colsample_bytree': [0.8, 0.9, 1.0],\n",
    "    'gamma': [0, 0.1, 0.2],\n",
    "    'reg_alpha': [0, 0.1, 0.5],\n",
    "    'reg_lambda': [1, 1.5, 2]\n",
    "}\n",
    "# Create the XGBoost model object\n",
    "xgb_model = xgb.XGBClassifier()\n",
    "\n",
    "# Create the RandomizedSearchCV object\n",
    "grid_search = GridSearchCV(xgb_model, param_grid, cv=5, scoring='accuracy',n_jobs=-1)\n",
    "\n",
    "# Fit the RandomizedSearchCV object to the training data\n",
    "grid_search.fit(x_train, y_train)\n",
    "\n",
    "# Print the best set of hyperparameters and the corresponding score\n",
    "print(\"Best set of hyperparameters: \", grid_search.best_params_)\n",
    "print(\"Best score: \", grid_search.best_score_)"
   ]
  },
  {
   "cell_type": "code",
   "execution_count": 19,
   "id": "cd0bb26c-84c1-4518-94d5-aa4dcc73abf1",
   "metadata": {},
   "outputs": [],
   "source": [
    "from sklearn.metrics import classification_report"
   ]
  },
  {
   "cell_type": "code",
   "execution_count": 20,
   "id": "905a8a06-79e2-4f7b-bf33-0ec826b6e69b",
   "metadata": {},
   "outputs": [
    {
     "name": "stdout",
     "output_type": "stream",
     "text": [
      "Performance on TEST\n",
      "*******************\n",
      "              precision    recall  f1-score   support\n",
      "\n",
      "       False       0.74      0.89      0.81        56\n",
      "        True       0.45      0.22      0.29        23\n",
      "\n",
      "    accuracy                           0.70        79\n",
      "   macro avg       0.59      0.56      0.55        79\n",
      "weighted avg       0.65      0.70      0.66        79\n",
      "\n",
      "Performance on TRAIN\n",
      "********************\n",
      "              precision    recall  f1-score   support\n",
      "\n",
      "       False       0.82      0.98      0.90       130\n",
      "        True       0.93      0.48      0.63        54\n",
      "\n",
      "    accuracy                           0.84       184\n",
      "   macro avg       0.87      0.73      0.76       184\n",
      "weighted avg       0.85      0.84      0.82       184\n",
      "\n"
     ]
    }
   ],
   "source": [
    "acc_xgb = grid_search.best_estimator_\n",
    "print(f\"Performance on TEST\\n*******************\\n{classification_report(y_test, acc_xgb.predict(x_test))}\")\n",
    "print(f\"Performance on TRAIN\\n********************\\n{classification_report(y_train, acc_xgb.predict(x_train))}\")\n"
   ]
  },
  {
   "cell_type": "code",
   "execution_count": 21,
   "id": "1205b878-b03d-4656-890f-83d95993d468",
   "metadata": {},
   "outputs": [
    {
     "name": "stdout",
     "output_type": "stream",
     "text": [
      "Best set of hyperparameters:  {'colsample_bytree': 0.9, 'gamma': 0, 'learning_rate': 0.2, 'max_depth': 3, 'min_child_weight': 3, 'reg_alpha': 0.1, 'reg_lambda': 2, 'subsample': 0.9}\n",
      "Best score:  0.5018181818181818\n"
     ]
    }
   ],
   "source": [
    "\n",
    "# Create the RandomizedSearchCV object\n",
    "grid_recall = GridSearchCV(xgb_model, param_grid, cv=5, scoring='recall',n_jobs=-1)\n",
    "\n",
    "# Fit the RandomizedSearchCV object to the training data\n",
    "grid_recall.fit(x_train, y_train)\n",
    "\n",
    "# Print the best set of hyperparameters and the corresponding score\n",
    "print(\"Best set of hyperparameters: \", grid_recall.best_params_)\n",
    "print(\"Best score: \", grid_recall.best_score_)"
   ]
  },
  {
   "cell_type": "code",
   "execution_count": 22,
   "id": "94630be8-ff9d-4a52-bcfe-661782db383c",
   "metadata": {},
   "outputs": [
    {
     "name": "stdout",
     "output_type": "stream",
     "text": [
      "Performance on TEST\n",
      "*******************\n",
      "              precision    recall  f1-score   support\n",
      "\n",
      "       False       0.75      0.91      0.82        56\n",
      "        True       0.55      0.26      0.35        23\n",
      "\n",
      "    accuracy                           0.72        79\n",
      "   macro avg       0.65      0.59      0.59        79\n",
      "weighted avg       0.69      0.72      0.69        79\n",
      "\n",
      "Performance on TRAIN\n",
      "********************\n",
      "              precision    recall  f1-score   support\n",
      "\n",
      "       False       0.88      0.99      0.93       130\n",
      "        True       0.97      0.67      0.79        54\n",
      "\n",
      "    accuracy                           0.90       184\n",
      "   macro avg       0.93      0.83      0.86       184\n",
      "weighted avg       0.91      0.90      0.89       184\n",
      "\n"
     ]
    }
   ],
   "source": [
    "recall_xgb = grid_recall.best_estimator_\n",
    "print(f\"Performance on TEST\\n*******************\\n{classification_report(y_test, recall_xgb.predict(x_test))}\")\n",
    "print(f\"Performance on TRAIN\\n********************\\n{classification_report(y_train, recall_xgb.predict(x_train))}\")\n"
   ]
  },
  {
   "cell_type": "code",
   "execution_count": 23,
   "id": "abe1e6e2-7f44-4699-bbb8-f50a9ec40587",
   "metadata": {},
   "outputs": [],
   "source": [
    "param_grid = {\n",
    "    'learning_rate': [0.01, 0.1, 0.2],\n",
    "    'max_depth': np.arange(3, 20, 1),\n",
    "    'min_child_weight': [1, 3, 5],\n",
    "    'subsample': [0.8, 0.9, 1.0],\n",
    "    'colsample_bytree': [0.8],\n",
    "    'gamma': [0],\n",
    "    'reg_alpha': [0, 0.1, 0.5],\n",
    "    'reg_lambda': [1, 1.5, 2]\n",
    "}"
   ]
  },
  {
   "cell_type": "code",
   "execution_count": 24,
   "id": "5aadd634-0a42-4e7a-8d6c-29d90d4ac8da",
   "metadata": {},
   "outputs": [
    {
     "name": "stdout",
     "output_type": "stream",
     "text": [
      "Best set of hyperparameters:  {'colsample_bytree': 0.8, 'gamma': 0, 'learning_rate': 0.2, 'max_depth': 4, 'min_child_weight': 3, 'reg_alpha': 0, 'reg_lambda': 2, 'subsample': 1.0}\n",
      "Best score:  0.5018181818181818\n"
     ]
    }
   ],
   "source": [
    "# Create the RandomizedSearchCV object\n",
    "grid_recall2 = GridSearchCV(xgb_model, param_grid, cv=5, scoring='recall',n_jobs=-1)\n",
    "\n",
    "# Fit the RandomizedSearchCV object to the training data\n",
    "grid_recall2.fit(x_train, y_train)\n",
    "\n",
    "# Print the best set of hyperparameters and the corresponding score\n",
    "print(\"Best set of hyperparameters: \", grid_recall2.best_params_)\n",
    "print(\"Best score: \", grid_recall2.best_score_)"
   ]
  },
  {
   "cell_type": "code",
   "execution_count": 25,
   "id": "d19f5d16-ddef-4b9e-b689-7b0403119e99",
   "metadata": {},
   "outputs": [
    {
     "name": "stdout",
     "output_type": "stream",
     "text": [
      "Performance on TEST\n",
      "*******************\n",
      "              precision    recall  f1-score   support\n",
      "\n",
      "       False       0.74      0.89      0.81        56\n",
      "        True       0.45      0.22      0.29        23\n",
      "\n",
      "    accuracy                           0.70        79\n",
      "   macro avg       0.59      0.56      0.55        79\n",
      "weighted avg       0.65      0.70      0.66        79\n",
      "\n",
      "Performance on TRAIN\n",
      "********************\n",
      "              precision    recall  f1-score   support\n",
      "\n",
      "       False       0.88      0.99      0.93       130\n",
      "        True       0.97      0.67      0.79        54\n",
      "\n",
      "    accuracy                           0.90       184\n",
      "   macro avg       0.93      0.83      0.86       184\n",
      "weighted avg       0.91      0.90      0.89       184\n",
      "\n"
     ]
    }
   ],
   "source": [
    "recall_xgb2 = grid_recall2.best_estimator_\n",
    "print(f\"Performance on TEST\\n*******************\\n{classification_report(y_test, recall_xgb2.predict(x_test))}\")\n",
    "print(f\"Performance on TRAIN\\n********************\\n{classification_report(y_train, recall_xgb2.predict(x_train))}\")\n"
   ]
  },
  {
   "cell_type": "code",
   "execution_count": 32,
   "id": "8f0293cb-5bda-4787-893b-ba577dbd0195",
   "metadata": {},
   "outputs": [],
   "source": [
    "import pickle\n",
    "with open('acc_xgb', 'wb') as f:\n",
    "    pickle.dump(acc_xgb, f)"
   ]
  },
  {
   "cell_type": "code",
   "execution_count": 33,
   "id": "5e35d64f-16f9-47d5-9af8-468695fe08c8",
   "metadata": {},
   "outputs": [],
   "source": [
    "with open('recall_xgb', 'wb') as f:\n",
    "    pickle.dump(recall_xgb, f)"
   ]
  },
  {
   "cell_type": "code",
   "execution_count": 34,
   "id": "620e0690-1463-4d24-94c0-f007f1df3c87",
   "metadata": {},
   "outputs": [],
   "source": [
    "with open('recall_xgb2', 'wb') as f:\n",
    "    pickle.dump(recall_xgb2, f)"
   ]
  },
  {
   "cell_type": "code",
   "execution_count": 29,
   "id": "b2ab217e-1de1-4ccb-acf2-e9a3522f0322",
   "metadata": {},
   "outputs": [
    {
     "data": {
      "image/png": "[encoded data removed]",
      "text/plain": [
       "<Figure size 800x800 with 1 Axes>"
      ]
     },
     "metadata": {},
     "output_type": "display_data"
    }
   ],
   "source": [
    "from sklearn.metrics import precision_recall_curve\n",
    "from matplotlib import pyplot as plt\n",
    "\n",
    "def plot_precision_recall_vs_threshold(precisions, recalls, thresholds):\n",
    "    plt.figure(figsize=(8, 8))\n",
    "    plt.title(\"Precision and Recall Scores as a function of the decision threshold\")\n",
    "    plt.plot(thresholds, precisions[:-1], \"b--\", label=\"Precision\")\n",
    "    plt.plot(thresholds, recalls[:-1], \"g-\", label=\"Recall\")\n",
    "    plt.ylabel(\"Score\")\n",
    "    plt.xlabel(\"Decision Threshold\")\n",
    "    plt.legend(loc='best')\n",
    "\n",
    "# generate the probabilities on the test set; here we could use any model\n",
    "Y_probs = recall_xgb.predict_proba(x_test)[0:,1]\n",
    "\n",
    "# the precision_recall_curve function from sklearn returns three parameters\n",
    "precisions, recalls, thresholds = precision_recall_curve(y_test, Y_probs)\n",
    "plot_precision_recall_vs_threshold(precisions, recalls, thresholds)"
   ]
  },
  {
   "cell_type": "code",
   "execution_count": 30,
   "id": "9d0048b9-831a-4aa8-b4fe-7f7d425d4343",
   "metadata": {},
   "outputs": [
    {
     "data": {
      "image/png": "[encoded data removed]",
      "text/plain": [
       "<Figure size 800x800 with 1 Axes>"
      ]
     },
     "metadata": {},
     "output_type": "display_data"
    }
   ],
   "source": [
    "Y_probs = acc_xgb.predict_proba(x_test)[0:,1]\n",
    "\n",
    "# the precision_recall_curve function from sklearn returns three parameters\n",
    "precisions, recalls, thresholds = precision_recall_curve(y_test, Y_probs)\n",
    "plot_precision_recall_vs_threshold(precisions, recalls, thresholds)"
   ]
  },
  {
   "cell_type": "code",
   "execution_count": 31,
   "id": "27204b2b-89ec-46c6-b545-2a8832a62ddd",
   "metadata": {},
   "outputs": [
    {
     "data": {
      "image/png": "[encoded data removed]",
      "text/plain": [
       "<Figure size 800x800 with 1 Axes>"
      ]
     },
     "metadata": {},
     "output_type": "display_data"
    }
   ],
   "source": [
    "Y_probs = recall_xgb2.predict_proba(x_test)[0:,1]\n",
    "\n",
    "# the precision_recall_curve function from sklearn returns three parameters\n",
    "precisions, recalls, thresholds = precision_recall_curve(y_test, Y_probs)\n",
    "plot_precision_recall_vs_threshold(precisions, recalls, thresholds)"
   ]
  },
  {
   "cell_type": "code",
   "execution_count": null,
   "id": "ba8652b5-6f1e-49c7-90a7-77886ed3f4d6",
   "metadata": {},
   "outputs": [],
   "source": []
  }
 ],
 "metadata": {
  "kernelspec": {
   "display_name": "Python 3 (ipykernel)",
   "language": "python",
   "name": "python3"
  },
  "language_info": {
   "codemirror_mode": {
    "name": "ipython",
    "version": 3
   },
   "file_extension": ".py",
   "mimetype": "text/x-python",
   "name": "python",
   "nbconvert_exporter": "python",
   "pygments_lexer": "ipython3",
   "version": "3.11.1"
  }
 },
 "nbformat": 4,
 "nbformat_minor": 5
}
