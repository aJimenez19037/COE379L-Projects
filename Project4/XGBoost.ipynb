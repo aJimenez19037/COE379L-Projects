{
 "cells": [
  {
   "cell_type": "code",
   "execution_count": 1,
   "id": "d91f142d-a78a-4601-a2a6-566f75c7cc43",
   "metadata": {},
   "outputs": [],
   "source": [
    "import pandas as pd\n",
    "import numpy as np\n",
    "import seaborn as sns\n",
    "import matplotlib.pyplot as plt\n",
    "import sklearn \n",
    "from sklearn.model_selection import train_test_split, GridSearchCV\n",
    "from sklearn import svm\n",
    "from sklearn.metrics import accuracy_score, recall_score, precision_score, f1_score, classification_report\n",
    "data = pd.read_csv(\"project4.csv\")"
   ]
  },
  {
   "cell_type": "code",
   "execution_count": 2,
   "id": "bbecc1ba-f658-460a-bc2f-bb16b191e459",
   "metadata": {},
   "outputs": [],
   "source": [
    "## treating \"?\" values in node-caps with \"no\" because that is the \"mode\" or most frequent value\n",
    "data[\"node-caps\"] = data[\"node-caps\"].replace(\"?\",\"no\")"
   ]
  },
  {
   "cell_type": "code",
   "execution_count": 3,
   "id": "cc3e8400-f75b-4c28-a75b-e9fb84633ee4",
   "metadata": {},
   "outputs": [],
   "source": [
    "## treating \"?\" values in breast-quad with \"left_low\" because that is the \"mode\" or most frequent value\n",
    "data[\"breast-quad\"] = data[\"breast-quad\"].replace(\"?\",\"left_low\")"
   ]
  },
  {
   "cell_type": "code",
   "execution_count": 4,
   "id": "7a60859a-7264-4004-ae12-b5438a728b84",
   "metadata": {},
   "outputs": [],
   "source": [
    "## converting columns to category type for one-hot encoding\n",
    "data['class'] = data['class'].astype(\"category\")\n",
    "data['menopause'] = data['menopause'].astype(\"category\")\n",
    "data['node-caps'] = data['node-caps'].astype(\"category\")\n",
    "data['breast'] = data['breast'].astype(\"category\")\n",
    "data['breast-quad'] = data['breast-quad'].astype(\"category\")\n",
    "data['irradiat'] = data['irradiat'].astype(\"category\")"
   ]
  },
  {
   "cell_type": "code",
   "execution_count": 5,
   "id": "114f477b-e170-4989-8155-e95074b1ead3",
   "metadata": {},
   "outputs": [
    {
     "name": "stdout",
     "output_type": "stream",
     "text": [
      "<class 'pandas.core.frame.DataFrame'>\n",
      "RangeIndex: 286 entries, 0 to 285\n",
      "Data columns (total 10 columns):\n",
      " #   Column       Non-Null Count  Dtype   \n",
      "---  ------       --------------  -----   \n",
      " 0   class        286 non-null    category\n",
      " 1   age          286 non-null    object  \n",
      " 2   menopause    286 non-null    category\n",
      " 3   tumor-size   286 non-null    object  \n",
      " 4   inv-nodes    286 non-null    object  \n",
      " 5   node-caps    286 non-null    category\n",
      " 6   deg-malig    286 non-null    int64   \n",
      " 7   breast       286 non-null    category\n",
      " 8   breast-quad  286 non-null    category\n",
      " 9   irradiat     286 non-null    category\n",
      "dtypes: category(6), int64(1), object(3)\n",
      "memory usage: 11.6+ KB\n"
     ]
    }
   ],
   "source": [
    "data.info()"
   ]
  },
  {
   "cell_type": "code",
   "execution_count": 6,
   "id": "2e7b8732-b7ff-41e6-a80c-d9d768872eeb",
   "metadata": {},
   "outputs": [],
   "source": [
    "data = pd.get_dummies(data, columns=[\"class\", \"menopause\", \"node-caps\", 'breast','breast-quad','irradiat'], drop_first=True)"
   ]
  },
  {
   "cell_type": "code",
   "execution_count": 7,
   "id": "8f6e972a-71e9-45f7-a1c8-0babad6d2720",
   "metadata": {},
   "outputs": [],
   "source": [
    "## doing data type conversion on age, tumor-size, and inv-nodes by replacing ranges with their midpoint\n",
    "data[\"age\"] = data[\"age\"].replace({'20-29':'25', '30-39':'35','40-49':'45','50-59':'55','60-69':'65','70-79':'75'})\n",
    "data[\"tumor-size\"] = data[\"tumor-size\"].replace({'0-4':'2', '5-9':'7','10-14':'12','15-19':'17','20-24':'22','25-29':'27', '30-34':'32','35-39':'37','40-44':'42','45-49':'47','50-54':'52'})\n",
    "data[\"inv-nodes\"] = data[\"inv-nodes\"].replace({'0-2':'1', '3-5':'4','6-8':'7','9-11':'10','12-14':'13','15-17':'16','24-26':'25'})"
   ]
  },
  {
   "cell_type": "code",
   "execution_count": 8,
   "id": "f2f11e8d-2832-4f17-bf2a-41d389118b6f",
   "metadata": {},
   "outputs": [],
   "source": [
    "## converting the columns to ints\n",
    "data[\"age\"] = data[\"age\"].astype(int)\n",
    "data[\"tumor-size\"] = data[\"tumor-size\"].astype(int)\n",
    "data[\"inv-nodes\"] = data[\"inv-nodes\"].astype(int)"
   ]
  },
  {
   "cell_type": "code",
   "execution_count": 9,
   "id": "7fe6e7fd-0ae5-40c8-a199-a3209a1baf89",
   "metadata": {},
   "outputs": [],
   "source": [
    "X = data.drop('class_recurrence-events', axis=1)\n",
    "y = data['class_recurrence-events']\n",
    "x_train, x_test, y_train, y_test = train_test_split(X, y, test_size=0.3, stratify=y, random_state=1)"
   ]
  },
  {
   "cell_type": "code",
   "execution_count": 10,
   "id": "3496fed5-e441-4352-a337-a32ef74238dd",
   "metadata": {},
   "outputs": [
    {
     "name": "stdout",
     "output_type": "stream",
     "text": [
      "Requirement already satisfied: xgboost in /root/.local/lib/python3.11/site-packages (2.0.3)\n",
      "Requirement already satisfied: numpy in /usr/local/lib/python3.11/site-packages (from xgboost) (1.26.4)\n",
      "Requirement already satisfied: scipy in /usr/local/lib/python3.11/site-packages (from xgboost) (1.12.0)\n",
      "\u001b[33mWARNING: Running pip as the 'root' user can result in broken permissions and conflicting behaviour with the system package manager. It is recommended to use a virtual environment instead: https://pip.pypa.io/warnings/venv\u001b[0m\u001b[33m\n",
      "\u001b[0m\n",
      "\u001b[1m[\u001b[0m\u001b[34;49mnotice\u001b[0m\u001b[1;39;49m]\u001b[0m\u001b[39;49m A new release of pip available: \u001b[0m\u001b[31;49m22.3.1\u001b[0m\u001b[39;49m -> \u001b[0m\u001b[32;49m24.0\u001b[0m\n",
      "\u001b[1m[\u001b[0m\u001b[34;49mnotice\u001b[0m\u001b[1;39;49m]\u001b[0m\u001b[39;49m To update, run: \u001b[0m\u001b[32;49mpip install --upgrade pip\u001b[0m\n",
      "Note: you may need to restart the kernel to use updated packages.\n"
     ]
    }
   ],
   "source": [
    "pip install xgboost"
   ]
  },
  {
   "cell_type": "code",
   "execution_count": 11,
   "id": "353c088a-64de-4b8a-a4f1-d8f3c35f4b2e",
   "metadata": {},
   "outputs": [],
   "source": [
    "import xgboost as xgb"
   ]
  },
  {
   "cell_type": "code",
   "execution_count": 14,
   "id": "e2f3a4b4-a920-4789-b768-fb7d52a10a1e",
   "metadata": {},
   "outputs": [
    {
     "name": "stdout",
     "output_type": "stream",
     "text": [
      "Best set of hyperparameters:  {'colsample_bytree': 0.8, 'gamma': 0, 'learning_rate': 0.2, 'max_depth': 3, 'min_child_weight': 5, 'reg_alpha': 0.1, 'reg_lambda': 1.5, 'subsample': 0.9}\n",
      "Best score:  0.7699999999999999\n"
     ]
    }
   ],
   "source": [
    "param_grid = {\n",
    "    'learning_rate': [0.01, 0.1, 0.2],\n",
    "    'max_depth': [3, 5, 7],\n",
    "    'min_child_weight': [1, 3, 5],\n",
    "    'subsample': [0.8, 0.9, 1.0],\n",
    "    'colsample_bytree': [0.8, 0.9, 1.0],\n",
    "    'gamma': [0, 0.1, 0.2],\n",
    "    'reg_alpha': [0, 0.1, 0.5],\n",
    "    'reg_lambda': [1, 1.5, 2]\n",
    "}\n",
    "# Create the XGBoost model object\n",
    "xgb_model = xgb.XGBClassifier()\n",
    "\n",
    "# Create the RandomizedSearchCV object\n",
    "grid_search = GridSearchCV(xgb_model, param_grid, cv=5, scoring='accuracy',n_jobs=-1)\n",
    "\n",
    "# Fit the RandomizedSearchCV object to the training data\n",
    "grid_search.fit(x_train, y_train)\n",
    "\n",
    "# Print the best set of hyperparameters and the corresponding score\n",
    "print(\"Best set of hyperparameters: \", grid_search.best_params_)\n",
    "print(\"Best score: \", grid_search.best_score_)"
   ]
  },
  {
   "cell_type": "code",
   "execution_count": 15,
   "id": "cd0bb26c-84c1-4518-94d5-aa4dcc73abf1",
   "metadata": {},
   "outputs": [],
   "source": [
    "from sklearn.metrics import classification_report"
   ]
  },
  {
   "cell_type": "code",
   "execution_count": 17,
   "id": "905a8a06-79e2-4f7b-bf33-0ec826b6e69b",
   "metadata": {},
   "outputs": [
    {
     "name": "stdout",
     "output_type": "stream",
     "text": [
      "Performance on TEST\n",
      "*******************\n",
      "              precision    recall  f1-score   support\n",
      "\n",
      "       False       0.72      0.85      0.78        60\n",
      "        True       0.40      0.23      0.29        26\n",
      "\n",
      "    accuracy                           0.66        86\n",
      "   macro avg       0.56      0.54      0.54        86\n",
      "weighted avg       0.62      0.66      0.63        86\n",
      "\n",
      "Performance on TRAIN\n",
      "********************\n",
      "              precision    recall  f1-score   support\n",
      "\n",
      "       False       0.81      0.95      0.87       141\n",
      "        True       0.79      0.46      0.58        59\n",
      "\n",
      "    accuracy                           0.81       200\n",
      "   macro avg       0.80      0.70      0.73       200\n",
      "weighted avg       0.80      0.81      0.79       200\n",
      "\n"
     ]
    }
   ],
   "source": [
    "acc_xgb = grid_search.best_estimator_\n",
    "print(f\"Performance on TEST\\n*******************\\n{classification_report(y_test, acc_xgb.predict(x_test))}\")\n",
    "print(f\"Performance on TRAIN\\n********************\\n{classification_report(y_train, acc_xgb.predict(x_train))}\")\n"
   ]
  },
  {
   "cell_type": "code",
   "execution_count": 27,
   "id": "1205b878-b03d-4656-890f-83d95993d468",
   "metadata": {},
   "outputs": [
    {
     "name": "stdout",
     "output_type": "stream",
     "text": [
      "Best set of hyperparameters:  {'colsample_bytree': 0.8, 'gamma': 0, 'learning_rate': 0.2, 'max_depth': 5, 'min_child_weight': 1, 'reg_alpha': 0.5, 'reg_lambda': 1, 'subsample': 0.8}\n",
      "Best score:  0.4909090909090909\n"
     ]
    }
   ],
   "source": [
    "\n",
    "# Create the RandomizedSearchCV object\n",
    "grid_recall = GridSearchCV(xgb_model, param_grid, cv=5, scoring='recall',n_jobs=-1)\n",
    "\n",
    "# Fit the RandomizedSearchCV object to the training data\n",
    "grid_recall.fit(x_train, y_train)\n",
    "\n",
    "# Print the best set of hyperparameters and the corresponding score\n",
    "print(\"Best set of hyperparameters: \", grid_recall.best_params_)\n",
    "print(\"Best score: \", grid_recall.best_score_)"
   ]
  },
  {
   "cell_type": "code",
   "execution_count": 28,
   "id": "94630be8-ff9d-4a52-bcfe-661782db383c",
   "metadata": {},
   "outputs": [
    {
     "name": "stdout",
     "output_type": "stream",
     "text": [
      "Performance on TEST\n",
      "*******************\n",
      "              precision    recall  f1-score   support\n",
      "\n",
      "       False       0.73      0.80      0.76        60\n",
      "        True       0.40      0.31      0.35        26\n",
      "\n",
      "    accuracy                           0.65        86\n",
      "   macro avg       0.56      0.55      0.55        86\n",
      "weighted avg       0.63      0.65      0.64        86\n",
      "\n",
      "Performance on TRAIN\n",
      "********************\n",
      "              precision    recall  f1-score   support\n",
      "\n",
      "       False       0.92      0.99      0.95       141\n",
      "        True       0.98      0.78      0.87        59\n",
      "\n",
      "    accuracy                           0.93       200\n",
      "   macro avg       0.95      0.89      0.91       200\n",
      "weighted avg       0.93      0.93      0.93       200\n",
      "\n"
     ]
    }
   ],
   "source": [
    "recall_xgb = grid_recall.best_estimator_\n",
    "print(f\"Performance on TEST\\n*******************\\n{classification_report(y_test, recall_xgb.predict(x_test))}\")\n",
    "print(f\"Performance on TRAIN\\n********************\\n{classification_report(y_train, recall_xgb.predict(x_train))}\")\n"
   ]
  },
  {
   "cell_type": "code",
   "execution_count": 29,
   "id": "abe1e6e2-7f44-4699-bbb8-f50a9ec40587",
   "metadata": {},
   "outputs": [],
   "source": [
    "param_grid = {\n",
    "    'learning_rate': [0.01, 0.1, 0.2],\n",
    "    'max_depth': np.arange(3, 20, 1),\n",
    "    'min_child_weight': [1, 3, 5],\n",
    "    'subsample': [0.8, 0.9, 1.0],\n",
    "    'colsample_bytree': [0.8],\n",
    "    'gamma': [0],\n",
    "    'reg_alpha': [0, 0.1, 0.5],\n",
    "    'reg_lambda': [1, 1.5, 2]\n",
    "}"
   ]
  },
  {
   "cell_type": "code",
   "execution_count": 30,
   "id": "5aadd634-0a42-4e7a-8d6c-29d90d4ac8da",
   "metadata": {},
   "outputs": [
    {
     "name": "stdout",
     "output_type": "stream",
     "text": [
      "Best set of hyperparameters:  {'colsample_bytree': 0.8, 'gamma': 0, 'learning_rate': 0.2, 'max_depth': 5, 'min_child_weight': 1, 'reg_alpha': 0.5, 'reg_lambda': 1, 'subsample': 0.8}\n",
      "Best score:  0.4909090909090909\n"
     ]
    }
   ],
   "source": [
    "# Create the RandomizedSearchCV object\n",
    "grid_recall2 = GridSearchCV(xgb_model, param_grid, cv=5, scoring='recall',n_jobs=-1)\n",
    "\n",
    "# Fit the RandomizedSearchCV object to the training data\n",
    "grid_recall2.fit(x_train, y_train)\n",
    "\n",
    "# Print the best set of hyperparameters and the corresponding score\n",
    "print(\"Best set of hyperparameters: \", grid_recall2.best_params_)\n",
    "print(\"Best score: \", grid_recall2.best_score_)"
   ]
  },
  {
   "cell_type": "code",
   "execution_count": 32,
   "id": "d19f5d16-ddef-4b9e-b689-7b0403119e99",
   "metadata": {},
   "outputs": [
    {
     "name": "stdout",
     "output_type": "stream",
     "text": [
      "Performance on TEST\n",
      "*******************\n",
      "              precision    recall  f1-score   support\n",
      "\n",
      "       False       0.73      0.80      0.76        60\n",
      "        True       0.40      0.31      0.35        26\n",
      "\n",
      "    accuracy                           0.65        86\n",
      "   macro avg       0.56      0.55      0.55        86\n",
      "weighted avg       0.63      0.65      0.64        86\n",
      "\n",
      "Performance on TRAIN\n",
      "********************\n",
      "              precision    recall  f1-score   support\n",
      "\n",
      "       False       0.92      0.99      0.95       141\n",
      "        True       0.98      0.78      0.87        59\n",
      "\n",
      "    accuracy                           0.93       200\n",
      "   macro avg       0.95      0.89      0.91       200\n",
      "weighted avg       0.93      0.93      0.93       200\n",
      "\n"
     ]
    }
   ],
   "source": [
    "recall_xgb2 = grid_recall2.best_estimator_\n",
    "print(f\"Performance on TEST\\n*******************\\n{classification_report(y_test, recall_xgb2.predict(x_test))}\")\n",
    "print(f\"Performance on TRAIN\\n********************\\n{classification_report(y_train, recall_xgb2.predict(x_train))}\")\n"
   ]
  },
  {
   "cell_type": "code",
   "execution_count": 33,
   "id": "8f0293cb-5bda-4787-893b-ba577dbd0195",
   "metadata": {},
   "outputs": [],
   "source": [
    "import pickle\n",
    "with open('acc_xgb', 'wb') as f:\n",
    "    pickle.dump(acc_xgb, f)"
   ]
  },
  {
   "cell_type": "code",
   "execution_count": 34,
   "id": "5e35d64f-16f9-47d5-9af8-468695fe08c8",
   "metadata": {},
   "outputs": [],
   "source": [
    "with open('recall_xgb', 'wb') as f:\n",
    "    pickle.dump(recall_xgb, f)"
   ]
  },
  {
   "cell_type": "code",
   "execution_count": 35,
   "id": "620e0690-1463-4d24-94c0-f007f1df3c87",
   "metadata": {},
   "outputs": [],
   "source": [
    "with open('recall_xgb2', 'wb') as f:\n",
    "    pickle.dump(recall_xgb2, f)"
   ]
  },
  {
   "cell_type": "code",
   "execution_count": null,
   "id": "d5052fa5-ebfc-450b-ab57-654ae616cb10",
   "metadata": {},
   "outputs": [],
   "source": []
  }
 ],
 "metadata": {
  "kernelspec": {
   "display_name": "Python 3 (ipykernel)",
   "language": "python",
   "name": "python3"
  },
  "language_info": {
   "codemirror_mode": {
    "name": "ipython",
    "version": 3
   },
   "file_extension": ".py",
   "mimetype": "text/x-python",
   "name": "python",
   "nbconvert_exporter": "python",
   "pygments_lexer": "ipython3",
   "version": "3.11.1"
  }
 },
 "nbformat": 4,
 "nbformat_minor": 5
}
