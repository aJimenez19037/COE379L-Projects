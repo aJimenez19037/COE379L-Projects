{
 "cells": [
  {
   "cell_type": "code",
   "execution_count": 1,
   "id": "a93e48ba-1d4e-4d5b-a7be-bd9e69447e76",
   "metadata": {},
   "outputs": [],
   "source": [
    "# Let's make sure these directories are clean before we start\n",
    "import shutil\n",
    "try:\n",
    "    shutil.rmtree(\"images-cnn-split/train\")\n",
    "    shutil.rmtree(\"images-cnn-split/test\")\n",
    "except:\n",
    "    pass"
   ]
  },
  {
   "cell_type": "code",
   "execution_count": 2,
   "id": "abfb283b-9273-45ff-a652-74884b5eca5b",
   "metadata": {},
   "outputs": [],
   "source": [
    "# We have three class which contains all the data: Bread, Soup and Vegetable-Fruit\n",
    "# Let's create directories for each class in the train and test directories.\n",
    "import os\n",
    "# ensure directories exist\n",
    "from pathlib import Path\n",
    "\n",
    "Path(\"images-cnn-split/train/damage\").mkdir(parents=True, exist_ok=True)\n",
    "Path(\"images-cnn-split/train/no_damage\").mkdir(parents=True, exist_ok=True)\n",
    "Path(\"images-cnn-split/test/damage\").mkdir(parents=True, exist_ok=True)\n",
    "Path(\"images-cnn-split/test/no_damage\").mkdir(parents=True, exist_ok=True)\n"
   ]
  },
  {
   "cell_type": "code",
   "execution_count": 3,
   "id": "19ca38b2-e7e0-4187-9e2c-a5a1c7b3e201",
   "metadata": {},
   "outputs": [],
   "source": [
    "# we need paths of images for individual classes so we can copy them in the new directories that we created above\n",
    "all_damage_file_paths = os.listdir('images/damage')\n",
    "all_no_damage_file_paths = os.listdir('images/no_damage')"
   ]
  },
  {
   "cell_type": "code",
   "execution_count": 4,
   "id": "7b43da63-819f-446c-8304-86de32578bad",
   "metadata": {},
   "outputs": [
    {
     "name": "stdout",
     "output_type": "stream",
     "text": [
      "train damage image count:  11336\n",
      "test damage image count:  2834\n",
      "len of overlap:  0\n",
      "train no_damage image count:  5721\n",
      "test no_damage image count:  1431\n",
      "len of overlap:  0\n"
     ]
    }
   ],
   "source": [
    "import random\n",
    "\n",
    "train_damage_paths = random.sample(all_damage_file_paths, int(len(all_damage_file_paths)*0.8))\n",
    "print(\"train damage image count: \", len(train_damage_paths))\n",
    "test_damage_paths = [ p for p in all_damage_file_paths if p not in train_damage_paths]\n",
    "print(\"test damage image count: \", len(test_damage_paths))\n",
    "# ensure no overlap:\n",
    "overlap = [p for p in train_damage_paths if p in test_damage_paths]\n",
    "print(\"len of overlap: \", len(overlap))\n",
    "\n",
    "train_no_damage_paths = random.sample(all_no_damage_file_paths, int(len(all_no_damage_file_paths)*0.8))\n",
    "print(\"train no_damage image count: \", len(train_no_damage_paths))\n",
    "test_no_damage_paths = [ p for p in all_no_damage_file_paths if p not in train_no_damage_paths]\n",
    "print(\"test no_damage image count: \", len(test_no_damage_paths))\n",
    "# ensure no overlap:\n",
    "overlap = [p for p in train_no_damage_paths if p in test_no_damage_paths]\n",
    "print(\"len of overlap: \", len(overlap))\n"
   ]
  },
  {
   "cell_type": "code",
   "execution_count": 5,
   "id": "1b689a45-31e0-4aac-90c8-70648e39cef0",
   "metadata": {},
   "outputs": [
    {
     "name": "stdout",
     "output_type": "stream",
     "text": [
      "Files in train/damage:  11336\n",
      "Files in train/no_damage:  5721\n",
      "Files in test/damage:  2834\n",
      "Files in test/no_damage:  1431\n"
     ]
    }
   ],
   "source": [
    "# ensure to copy the images to the directories\n",
    "import shutil\n",
    "for p in train_damage_paths:\n",
    "    shutil.copyfile(os.path.join('images/damage', p), os.path.join('images-cnn-split/train/damage', p) )\n",
    "\n",
    "for p in test_damage_paths:\n",
    "    shutil.copyfile(os.path.join('images/damage', p), os.path.join('images-cnn-split/test/damage', p) )\n",
    "\n",
    "for p in train_no_damage_paths:\n",
    "    shutil.copyfile(os.path.join('images/no_damage', p), os.path.join('images-cnn-split/train/no_damage', p) )\n",
    "\n",
    "for p in test_no_damage_paths:\n",
    "    shutil.copyfile(os.path.join('images/no_damage', p), os.path.join('images-cnn-split/test/no_damage', p) )\n",
    "\n",
    "\n",
    "# check counts:\n",
    "print(\"Files in train/damage: \", len(os.listdir(\"images-cnn-split/train/damage\")))\n",
    "print(\"Files in train/no_damage: \", len(os.listdir(\"images-cnn-split/train/no_damage\")))\n",
    "\n",
    "print(\"Files in test/damage: \", len(os.listdir(\"images-cnn-split/test/damage\")))\n",
    "print(\"Files in test/no_damage: \", len(os.listdir(\"images-cnn-split/test/no_damage\")))\n"
   ]
  },
  {
   "cell_type": "code",
   "execution_count": 6,
   "id": "73b57ba1-631f-4bd9-8435-fb373b2f7cc7",
   "metadata": {},
   "outputs": [
    {
     "name": "stdout",
     "output_type": "stream",
     "text": [
      "Requirement already satisfied: tensorflow_datasets in /usr/local/lib/python3.11/site-packages (4.9.4)\n",
      "Requirement already satisfied: absl-py in /usr/local/lib/python3.11/site-packages (from tensorflow_datasets) (1.4.0)\n",
      "Requirement already satisfied: click in /usr/local/lib/python3.11/site-packages (from tensorflow_datasets) (8.1.7)\n",
      "Requirement already satisfied: dm-tree in /usr/local/lib/python3.11/site-packages (from tensorflow_datasets) (0.1.8)\n",
      "Requirement already satisfied: etils[enp,epath,etree]>=0.9.0 in /usr/local/lib/python3.11/site-packages (from tensorflow_datasets) (1.8.0)\n",
      "Requirement already satisfied: numpy in /usr/local/lib/python3.11/site-packages (from tensorflow_datasets) (1.26.3)\n",
      "Requirement already satisfied: promise in /usr/local/lib/python3.11/site-packages (from tensorflow_datasets) (2.3)\n",
      "Requirement already satisfied: protobuf>=3.20 in /usr/local/lib/python3.11/site-packages (from tensorflow_datasets) (3.20.3)\n",
      "Requirement already satisfied: psutil in /usr/local/lib/python3.11/site-packages (from tensorflow_datasets) (5.9.8)\n",
      "Requirement already satisfied: requests>=2.19.0 in /usr/local/lib/python3.11/site-packages (from tensorflow_datasets) (2.31.0)\n",
      "Requirement already satisfied: tensorflow-metadata in /usr/local/lib/python3.11/site-packages (from tensorflow_datasets) (1.14.0)\n",
      "Requirement already satisfied: termcolor in /usr/local/lib/python3.11/site-packages (from tensorflow_datasets) (2.4.0)\n",
      "Requirement already satisfied: toml in /usr/local/lib/python3.11/site-packages (from tensorflow_datasets) (0.10.2)\n",
      "Requirement already satisfied: tqdm in /usr/local/lib/python3.11/site-packages (from tensorflow_datasets) (4.66.2)\n",
      "Requirement already satisfied: wrapt in /usr/local/lib/python3.11/site-packages (from tensorflow_datasets) (1.14.1)\n",
      "Requirement already satisfied: array-record>=0.5.0 in /usr/local/lib/python3.11/site-packages (from tensorflow_datasets) (0.5.1)\n",
      "Requirement already satisfied: fsspec in /usr/local/lib/python3.11/site-packages (from etils[enp,epath,etree]>=0.9.0->tensorflow_datasets) (2024.3.1)\n",
      "Requirement already satisfied: importlib_resources in /usr/local/lib/python3.11/site-packages (from etils[enp,epath,etree]>=0.9.0->tensorflow_datasets) (6.4.0)\n",
      "Requirement already satisfied: typing_extensions in /usr/local/lib/python3.11/site-packages (from etils[enp,epath,etree]>=0.9.0->tensorflow_datasets) (4.9.0)\n",
      "Requirement already satisfied: zipp in /usr/local/lib/python3.11/site-packages (from etils[enp,epath,etree]>=0.9.0->tensorflow_datasets) (3.17.0)\n",
      "Requirement already satisfied: charset-normalizer<4,>=2 in /usr/local/lib/python3.11/site-packages (from requests>=2.19.0->tensorflow_datasets) (3.3.2)\n",
      "Requirement already satisfied: idna<4,>=2.5 in /usr/local/lib/python3.11/site-packages (from requests>=2.19.0->tensorflow_datasets) (3.6)\n",
      "Requirement already satisfied: urllib3<3,>=1.21.1 in /usr/local/lib/python3.11/site-packages (from requests>=2.19.0->tensorflow_datasets) (2.1.0)\n",
      "Requirement already satisfied: certifi>=2017.4.17 in /usr/local/lib/python3.11/site-packages (from requests>=2.19.0->tensorflow_datasets) (2023.11.17)\n",
      "Requirement already satisfied: six in /usr/local/lib/python3.11/site-packages (from promise->tensorflow_datasets) (1.16.0)\n",
      "Requirement already satisfied: googleapis-common-protos<2,>=1.52.0 in /usr/local/lib/python3.11/site-packages (from tensorflow-metadata->tensorflow_datasets) (1.63.0)\n",
      "\u001b[33mWARNING: Running pip as the 'root' user can result in broken permissions and conflicting behaviour with the system package manager. It is recommended to use a virtual environment instead: https://pip.pypa.io/warnings/venv\u001b[0m\u001b[33m\n",
      "\u001b[0mNote: you may need to restart the kernel to use updated packages.\n"
     ]
    }
   ],
   "source": [
    "pip install tensorflow_datasets --user"
   ]
  },
  {
   "cell_type": "code",
   "execution_count": 7,
   "id": "63af733a-4f42-45a4-88ab-58a4cf7116da",
   "metadata": {},
   "outputs": [
    {
     "name": "stderr",
     "output_type": "stream",
     "text": [
      "2024-04-11 19:21:19.261571: I external/local_tsl/tsl/cuda/cudart_stub.cc:31] Could not find cuda drivers on your machine, GPU will not be used.\n",
      "2024-04-11 19:21:19.295128: E external/local_xla/xla/stream_executor/cuda/cuda_dnn.cc:9261] Unable to register cuDNN factory: Attempting to register factory for plugin cuDNN when one has already been registered\n",
      "2024-04-11 19:21:19.295162: E external/local_xla/xla/stream_executor/cuda/cuda_fft.cc:607] Unable to register cuFFT factory: Attempting to register factory for plugin cuFFT when one has already been registered\n",
      "2024-04-11 19:21:19.296211: E external/local_xla/xla/stream_executor/cuda/cuda_blas.cc:1515] Unable to register cuBLAS factory: Attempting to register factory for plugin cuBLAS when one has already been registered\n",
      "2024-04-11 19:21:19.301857: I external/local_tsl/tsl/cuda/cudart_stub.cc:31] Could not find cuda drivers on your machine, GPU will not be used.\n",
      "2024-04-11 19:21:19.302461: I tensorflow/core/platform/cpu_feature_guard.cc:182] This TensorFlow binary is optimized to use available CPU instructions in performance-critical operations.\n",
      "To enable the following instructions: AVX2 FMA, in other operations, rebuild TensorFlow with the appropriate compiler flags.\n",
      "2024-04-11 19:21:20.410037: W tensorflow/compiler/tf2tensorrt/utils/py_utils.cc:38] TF-TRT Warning: Could not find TensorRT\n"
     ]
    },
    {
     "name": "stdout",
     "output_type": "stream",
     "text": [
      "Found 17057 files belonging to 2 classes.\n",
      "Using 13646 files for training.\n",
      "Using 3411 files for validation.\n"
     ]
    }
   ],
   "source": [
    "import tensorflow as tf\n",
    "import tensorflow_datasets as tfds\n",
    "from tensorflow.keras.layers.experimental.preprocessing import Rescaling\n",
    "train_data_dir = 'images-cnn-split/train'\n",
    "\n",
    "batch_size = 32\n",
    "# target image size\n",
    "img_height = 128\n",
    "img_width = 128\n",
    "\n",
    "# note that subset=\"training\", \"validation\", \"both\", and dictates which dataset is returned\n",
    "train_ds, val_ds = tf.keras.utils.image_dataset_from_directory(\n",
    "train_data_dir,\n",
    "validation_split=0.2,\n",
    "subset=\"both\",\n",
    "seed=123,\n",
    "image_size=(img_height, img_width),\n",
    "batch_size=batch_size\n",
    ")\n",
    "rescale = Rescaling(scale=1.0/255)\n",
    "train_rescale_ds = train_ds.map(lambda image,label:(rescale(image),label))\n",
    "val_rescale_ds = val_ds.map(lambda image,label:(rescale(image),label))"
   ]
  },
  {
   "cell_type": "code",
   "execution_count": 8,
   "id": "901a20a9-81d0-4e26-9ee8-a29466125ad5",
   "metadata": {},
   "outputs": [
    {
     "name": "stdout",
     "output_type": "stream",
     "text": [
      "Found 4265 files belonging to 2 classes.\n"
     ]
    }
   ],
   "source": [
    "test_data_dir = 'images-cnn-split/test/'\n",
    "\n",
    "batch_size = 2\n",
    "\n",
    "# this is what was used in the paper --\n",
    "img_height = 128\n",
    "img_width = 128\n",
    "\n",
    "# note that subset=\"training\", \"validation\", \"both\", and dictates what is returned\n",
    "test_ds = tf.keras.utils.image_dataset_from_directory(\n",
    "test_data_dir,\n",
    "seed=123,\n",
    "image_size=(img_height, img_width),\n",
    ")\n",
    "\n",
    "# approach 1: manually rescale data --\n",
    "rescale = Rescaling(scale=1.0/255)\n",
    "test_rescale_ds = test_ds.map(lambda image,label:(rescale(image),label))"
   ]
  },
  {
   "cell_type": "code",
   "execution_count": 9,
   "id": "c389c6fa-1dc3-4934-b1fd-bab377b2a21e",
   "metadata": {},
   "outputs": [
    {
     "name": "stdout",
     "output_type": "stream",
     "text": [
      "Model: \"sequential\"\n",
      "_________________________________________________________________\n",
      " Layer (type)                Output Shape              Param #   \n",
      "=================================================================\n",
      " conv2d (Conv2D)             (None, 128, 128, 64)      1792      \n",
      "                                                                 \n",
      " max_pooling2d (MaxPooling2  (None, 64, 64, 64)        0         \n",
      " D)                                                              \n",
      "                                                                 \n",
      " conv2d_1 (Conv2D)           (None, 64, 64, 32)        18464     \n",
      "                                                                 \n",
      " max_pooling2d_1 (MaxPoolin  (None, 32, 32, 32)        0         \n",
      " g2D)                                                            \n",
      "                                                                 \n",
      " conv2d_2 (Conv2D)           (None, 32, 32, 32)        9248      \n",
      "                                                                 \n",
      " max_pooling2d_2 (MaxPoolin  (None, 16, 16, 32)        0         \n",
      " g2D)                                                            \n",
      "                                                                 \n",
      " flatten (Flatten)           (None, 8192)              0         \n",
      "                                                                 \n",
      " dense (Dense)               (None, 100)               819300    \n",
      "                                                                 \n",
      " dense_1 (Dense)             (None, 84)                8484      \n",
      "                                                                 \n",
      " dense_2 (Dense)             (None, 2)                 170       \n",
      "                                                                 \n",
      "=================================================================\n",
      "Total params: 857458 (3.27 MB)\n",
      "Trainable params: 857458 (3.27 MB)\n",
      "Non-trainable params: 0 (0.00 Byte)\n",
      "_________________________________________________________________\n"
     ]
    }
   ],
   "source": [
    "from keras import layers\n",
    "from keras import models\n",
    "import pandas as pd\n",
    "from keras import optimizers\n",
    "\n",
    "# Intializing a sequential model\n",
    "model_cnn = models.Sequential()\n",
    "\n",
    "# Adding first conv layer with 64 filters and kernel size 3x3 , padding 'same' provides the output size same as the input size\n",
    "model_cnn.add(layers.Conv2D(64, (3, 3), activation='relu', padding=\"same\", input_shape=(128,128,3)))\n",
    "\n",
    "# Adding max pooling to reduce the size of output of first conv layer\n",
    "model_cnn.add(layers.MaxPooling2D((2, 2), padding = 'same'))\n",
    "\n",
    "model_cnn.add(layers.Conv2D(32, (3, 3), activation='relu', padding=\"same\"))\n",
    "model_cnn.add(layers.MaxPooling2D((2, 2), padding = 'same'))\n",
    "\n",
    "model_cnn.add(layers.Conv2D(32, (3, 3), activation='relu', padding=\"same\"))\n",
    "model_cnn.add(layers.MaxPooling2D((2, 2), padding = 'same'))\n",
    "\n",
    "# flattening the output of the conv layer after max pooling to make it ready for creating dense connections\n",
    "model_cnn.add(layers.Flatten())\n",
    "\n",
    "# Adding a fully connected dense layer with 100 neurons\n",
    "model_cnn.add(layers.Dense(100, activation='relu'))\n",
    "\n",
    "# Adding a fully connected dense layer with 84 neurons\n",
    "model_cnn.add(layers.Dense(84, activation='relu'))\n",
    "\n",
    "# Adding the output layer with * neurons and activation functions as softmax since this is a multi-class classification problem\n",
    "model_cnn.add(layers.Dense(2, activation='softmax'))\n",
    "\n",
    "# Compile model\n",
    "# RMSprop (Root Mean Square Propagation) is commonly used in training deep neural networks.\n",
    "model_cnn.compile(optimizer=optimizers.RMSprop(learning_rate=1e-4), loss='sparse_categorical_crossentropy', metrics=['accuracy'])\n",
    "\n",
    "# Generating the summary of the model\n",
    "model_cnn.summary()"
   ]
  },
  {
   "cell_type": "code",
   "execution_count": 10,
   "id": "a5a2d754-6028-4628-93e2-bebaee131d90",
   "metadata": {},
   "outputs": [
    {
     "name": "stdout",
     "output_type": "stream",
     "text": [
      "Epoch 1/20\n",
      "427/427 [==============================] - 113s 262ms/step - loss: 0.5349 - accuracy: 0.7517 - val_loss: 0.3906 - val_accuracy: 0.8528\n",
      "Epoch 2/20\n",
      "427/427 [==============================] - 108s 252ms/step - loss: 0.3921 - accuracy: 0.8438 - val_loss: 0.3306 - val_accuracy: 0.8786\n",
      "Epoch 3/20\n",
      "427/427 [==============================] - 100s 234ms/step - loss: 0.3226 - accuracy: 0.8775 - val_loss: 0.2653 - val_accuracy: 0.9120\n",
      "Epoch 4/20\n",
      "427/427 [==============================] - 109s 255ms/step - loss: 0.2632 - accuracy: 0.9042 - val_loss: 0.4122 - val_accuracy: 0.8291\n",
      "Epoch 5/20\n",
      "427/427 [==============================] - 109s 256ms/step - loss: 0.2051 - accuracy: 0.9250 - val_loss: 0.1685 - val_accuracy: 0.9381\n",
      "Epoch 6/20\n",
      "427/427 [==============================] - 108s 253ms/step - loss: 0.1679 - accuracy: 0.9363 - val_loss: 0.1780 - val_accuracy: 0.9346\n",
      "Epoch 7/20\n",
      "427/427 [==============================] - 112s 261ms/step - loss: 0.1416 - accuracy: 0.9427 - val_loss: 0.1749 - val_accuracy: 0.9361\n",
      "Epoch 8/20\n",
      "427/427 [==============================] - 111s 259ms/step - loss: 0.1289 - accuracy: 0.9489 - val_loss: 0.1293 - val_accuracy: 0.9543\n",
      "Epoch 9/20\n",
      "427/427 [==============================] - 109s 255ms/step - loss: 0.1161 - accuracy: 0.9549 - val_loss: 0.0932 - val_accuracy: 0.9604\n",
      "Epoch 10/20\n",
      "427/427 [==============================] - 107s 251ms/step - loss: 0.1079 - accuracy: 0.9574 - val_loss: 0.1329 - val_accuracy: 0.9469\n",
      "Epoch 11/20\n",
      "427/427 [==============================] - 103s 242ms/step - loss: 0.0980 - accuracy: 0.9615 - val_loss: 0.0900 - val_accuracy: 0.9622\n",
      "Epoch 12/20\n",
      "427/427 [==============================] - 108s 252ms/step - loss: 0.0949 - accuracy: 0.9643 - val_loss: 0.1194 - val_accuracy: 0.9540\n",
      "Epoch 13/20\n",
      "427/427 [==============================] - 115s 269ms/step - loss: 0.0851 - accuracy: 0.9670 - val_loss: 0.1005 - val_accuracy: 0.9610\n",
      "Epoch 14/20\n",
      "427/427 [==============================] - 115s 269ms/step - loss: 0.0815 - accuracy: 0.9686 - val_loss: 0.1851 - val_accuracy: 0.9214\n",
      "Epoch 15/20\n",
      "427/427 [==============================] - 112s 263ms/step - loss: 0.0737 - accuracy: 0.9730 - val_loss: 0.0814 - val_accuracy: 0.9651\n",
      "Epoch 16/20\n",
      "427/427 [==============================] - 108s 252ms/step - loss: 0.0708 - accuracy: 0.9742 - val_loss: 0.0685 - val_accuracy: 0.9719\n",
      "Epoch 17/20\n",
      "427/427 [==============================] - 111s 260ms/step - loss: 0.0650 - accuracy: 0.9771 - val_loss: 0.0971 - val_accuracy: 0.9628\n",
      "Epoch 18/20\n",
      "427/427 [==============================] - 109s 256ms/step - loss: 0.0618 - accuracy: 0.9782 - val_loss: 0.0724 - val_accuracy: 0.9695\n",
      "Epoch 19/20\n",
      "427/427 [==============================] - 108s 252ms/step - loss: 0.0571 - accuracy: 0.9792 - val_loss: 0.0697 - val_accuracy: 0.9733\n",
      "Epoch 20/20\n",
      "427/427 [==============================] - 105s 246ms/step - loss: 0.0549 - accuracy: 0.9799 - val_loss: 0.0934 - val_accuracy: 0.9645\n"
     ]
    }
   ],
   "source": [
    "#fit the model from image generator\n",
    "history = model_cnn.fit(\n",
    "            train_rescale_ds,\n",
    "            batch_size=32,\n",
    "            epochs=20,\n",
    "            validation_data=val_rescale_ds\n",
    ")"
   ]
  },
  {
   "cell_type": "code",
   "execution_count": 11,
   "id": "0fa03d39-f939-4b02-8598-b5a5d2833c38",
   "metadata": {},
   "outputs": [
    {
     "data": {
      "image/png": "[encoded data removed]",
      "text/plain": [
       "<Figure size 640x480 with 1 Axes>"
      ]
     },
     "metadata": {},
     "output_type": "display_data"
    }
   ],
   "source": [
    "import matplotlib.pyplot as plt\n",
    "plt.plot(history.history['accuracy'])\n",
    "plt.plot(history.history['val_accuracy'])\n",
    "plt.title('model accuracy')\n",
    "plt.ylabel('accuracy')\n",
    "plt.xlabel('epoch')\n",
    "plt.legend(['train', 'test'], loc='upper left')\n",
    "plt.show()"
   ]
  },
  {
   "cell_type": "code",
   "execution_count": 12,
   "id": "807c093c-a488-42de-b0b8-cb39b0652baa",
   "metadata": {},
   "outputs": [
    {
     "name": "stdout",
     "output_type": "stream",
     "text": [
      "Model: \"sequential_1\"\n",
      "_________________________________________________________________\n",
      " Layer (type)                Output Shape              Param #   \n",
      "=================================================================\n",
      " conv2d_3 (Conv2D)           (None, 126, 126, 32)      896       \n",
      "                                                                 \n",
      " max_pooling2d_3 (MaxPoolin  (None, 63, 63, 32)        0         \n",
      " g2D)                                                            \n",
      "                                                                 \n",
      " conv2d_4 (Conv2D)           (None, 61, 61, 64)        18496     \n",
      "                                                                 \n",
      " max_pooling2d_4 (MaxPoolin  (None, 31, 31, 64)        0         \n",
      " g2D)                                                            \n",
      "                                                                 \n",
      " conv2d_5 (Conv2D)           (None, 29, 29, 128)       73856     \n",
      "                                                                 \n",
      " max_pooling2d_5 (MaxPoolin  (None, 15, 15, 128)       0         \n",
      " g2D)                                                            \n",
      "                                                                 \n",
      " conv2d_6 (Conv2D)           (None, 13, 13, 128)       147584    \n",
      "                                                                 \n",
      " max_pooling2d_6 (MaxPoolin  (None, 7, 7, 128)         0         \n",
      " g2D)                                                            \n",
      "                                                                 \n",
      " flatten_1 (Flatten)         (None, 6272)              0         \n",
      "                                                                 \n",
      " dropout (Dropout)           (None, 6272)              0         \n",
      "                                                                 \n",
      " dense_3 (Dense)             (None, 512)               3211776   \n",
      "                                                                 \n",
      " dense_4 (Dense)             (None, 2)                 1026      \n",
      "                                                                 \n",
      "=================================================================\n",
      "Total params: 3453634 (13.17 MB)\n",
      "Trainable params: 3453634 (13.17 MB)\n",
      "Non-trainable params: 0 (0.00 Byte)\n",
      "_________________________________________________________________\n"
     ]
    }
   ],
   "source": [
    "# Intializing a sequential model\n",
    "alt_lenet5_cnn = models.Sequential()\n",
    "\n",
    "# Adding first conv layer with 64 filters and kernel size 3x3 , padding 'same' provides the output size same as the input size\n",
    "alt_lenet5_cnn.add(layers.Conv2D(32, (3, 3), activation='relu', padding=\"valid\", input_shape=(128,128,3)))\n",
    "\n",
    "# Adding max pooling to reduce the size of output of first conv layer\n",
    "alt_lenet5_cnn.add(layers.MaxPooling2D((2, 2), padding = 'same'))\n",
    "\n",
    "alt_lenet5_cnn.add(layers.Conv2D(64, (3, 3), activation='relu', padding=\"valid\"))\n",
    "alt_lenet5_cnn.add(layers.MaxPooling2D((2, 2), padding = 'same'))\n",
    "\n",
    "alt_lenet5_cnn.add(layers.Conv2D(128, (3, 3), activation='relu', padding=\"valid\"))\n",
    "alt_lenet5_cnn.add(layers.MaxPooling2D((2, 2), padding = 'same'))\n",
    "\n",
    "alt_lenet5_cnn.add(layers.Conv2D(128, (3, 3), activation='relu', padding=\"valid\"))\n",
    "alt_lenet5_cnn.add(layers.MaxPooling2D((2, 2), padding = 'same'))\n",
    "\n",
    "# flattening the output of the conv layer after max pooling to make it ready for creating dense connections\n",
    "alt_lenet5_cnn.add(layers.Flatten())\n",
    "#drop half to prevent overfitting\n",
    "alt_lenet5_cnn.add(layers.Dropout(0.5))\n",
    "# Adding a fully connected dense layer with 100 neurons\n",
    "alt_lenet5_cnn.add(layers.Dense(512, activation='relu'))\n",
    "# Adding the output layer with * neurons and activation functions as softmax since this is a multi-class classification problem\n",
    "alt_lenet5_cnn.add(layers.Dense(2, activation='softmax'))\n",
    "\n",
    "# Compile model\n",
    "# RMSprop (Root Mean Square Propagation) is commonly used in training deep neural networks.\n",
    "alt_lenet5_cnn.compile(optimizer=optimizers.Adam(learning_rate=1e-4), loss='sparse_categorical_crossentropy', metrics=['accuracy'])\n",
    "\n",
    "# Generating the summary of the model\n",
    "alt_lenet5_cnn.summary()"
   ]
  },
  {
   "cell_type": "code",
   "execution_count": 14,
   "id": "13dc5e40-7f5e-47c5-bf04-dc47908bdba6",
   "metadata": {},
   "outputs": [
    {
     "name": "stdout",
     "output_type": "stream",
     "text": [
      "Epoch 1/20\n",
      "427/427 [==============================] - 94s 216ms/step - loss: 0.4759 - accuracy: 0.7862 - val_loss: 0.3558 - val_accuracy: 0.8687\n",
      "Epoch 2/20\n",
      "427/427 [==============================] - 94s 221ms/step - loss: 0.2717 - accuracy: 0.9049 - val_loss: 0.1944 - val_accuracy: 0.9317\n",
      "Epoch 3/20\n",
      "427/427 [==============================] - 95s 223ms/step - loss: 0.2023 - accuracy: 0.9249 - val_loss: 0.1415 - val_accuracy: 0.9481\n",
      "Epoch 4/20\n",
      "427/427 [==============================] - 98s 228ms/step - loss: 0.1609 - accuracy: 0.9389 - val_loss: 0.1232 - val_accuracy: 0.9540\n",
      "Epoch 5/20\n",
      "427/427 [==============================] - 99s 231ms/step - loss: 0.1321 - accuracy: 0.9508 - val_loss: 0.1047 - val_accuracy: 0.9557\n",
      "Epoch 6/20\n",
      "427/427 [==============================] - 100s 234ms/step - loss: 0.1242 - accuracy: 0.9524 - val_loss: 0.1075 - val_accuracy: 0.9616\n",
      "Epoch 7/20\n",
      "427/427 [==============================] - 94s 219ms/step - loss: 0.1104 - accuracy: 0.9570 - val_loss: 0.0901 - val_accuracy: 0.9654\n",
      "Epoch 8/20\n",
      "427/427 [==============================] - 92s 214ms/step - loss: 0.0924 - accuracy: 0.9641 - val_loss: 0.0929 - val_accuracy: 0.9651\n",
      "Epoch 9/20\n",
      "427/427 [==============================] - 90s 211ms/step - loss: 0.0856 - accuracy: 0.9667 - val_loss: 0.0690 - val_accuracy: 0.9701\n",
      "Epoch 10/20\n",
      "427/427 [==============================] - 98s 230ms/step - loss: 0.0843 - accuracy: 0.9678 - val_loss: 0.0705 - val_accuracy: 0.9727\n",
      "Epoch 11/20\n",
      "427/427 [==============================] - 91s 213ms/step - loss: 0.0771 - accuracy: 0.9707 - val_loss: 0.0663 - val_accuracy: 0.9716\n",
      "Epoch 12/20\n",
      "427/427 [==============================] - 93s 217ms/step - loss: 0.0676 - accuracy: 0.9757 - val_loss: 0.0589 - val_accuracy: 0.9760\n",
      "Epoch 13/20\n",
      "427/427 [==============================] - 94s 221ms/step - loss: 0.0649 - accuracy: 0.9754 - val_loss: 0.0689 - val_accuracy: 0.9707\n",
      "Epoch 14/20\n",
      "427/427 [==============================] - 96s 224ms/step - loss: 0.0582 - accuracy: 0.9787 - val_loss: 0.0552 - val_accuracy: 0.9774\n",
      "Epoch 15/20\n",
      "427/427 [==============================] - 94s 219ms/step - loss: 0.0540 - accuracy: 0.9792 - val_loss: 0.0561 - val_accuracy: 0.9768\n",
      "Epoch 16/20\n",
      "427/427 [==============================] - 97s 227ms/step - loss: 0.0475 - accuracy: 0.9821 - val_loss: 0.0526 - val_accuracy: 0.9768\n",
      "Epoch 17/20\n",
      "427/427 [==============================] - 93s 218ms/step - loss: 0.0460 - accuracy: 0.9829 - val_loss: 0.0601 - val_accuracy: 0.9768\n",
      "Epoch 18/20\n",
      "427/427 [==============================] - 92s 215ms/step - loss: 0.0426 - accuracy: 0.9839 - val_loss: 0.0573 - val_accuracy: 0.9777\n",
      "Epoch 19/20\n",
      "427/427 [==============================] - 96s 224ms/step - loss: 0.0354 - accuracy: 0.9869 - val_loss: 0.0520 - val_accuracy: 0.9783\n",
      "Epoch 20/20\n",
      "427/427 [==============================] - 92s 216ms/step - loss: 0.0388 - accuracy: 0.9845 - val_loss: 0.0597 - val_accuracy: 0.9757\n"
     ]
    }
   ],
   "source": [
    "#fit the model from image generator\n",
    "history = alt_lenet5_cnn.fit(\n",
    "            train_rescale_ds,\n",
    "            batch_size=32,\n",
    "            epochs=20,\n",
    "            validation_data=val_rescale_ds)\n"
   ]
  },
  {
   "cell_type": "code",
   "execution_count": 15,
   "id": "8a730fcd-2bde-4582-9017-afdacc7b615a",
   "metadata": {},
   "outputs": [
    {
     "data": {
      "image/png": "[encoded data removed]",
      "text/plain": [
       "<Figure size 640x480 with 1 Axes>"
      ]
     },
     "metadata": {},
     "output_type": "display_data"
    }
   ],
   "source": [
    "import matplotlib.pyplot as plt\n",
    "plt.plot(history.history['accuracy'])\n",
    "plt.plot(history.history['val_accuracy'])\n",
    "plt.title('model accuracy')\n",
    "plt.ylabel('accuracy')\n",
    "plt.xlabel('epoch')\n",
    "plt.legend(['train', 'test'], loc='upper left')\n",
    "plt.show()"
   ]
  },
  {
   "cell_type": "code",
   "execution_count": 16,
   "id": "1443d58f-f8a0-4d0c-ba51-861f34ae3b4a",
   "metadata": {},
   "outputs": [
    {
     "data": {
      "text/plain": [
       "0.969519317150116"
      ]
     },
     "execution_count": 16,
     "metadata": {},
     "output_type": "execute_result"
    }
   ],
   "source": [
    "test_loss, test_accuracy = alt_lenet5_cnn.evaluate(test_rescale_ds, verbose=0)\n",
    "test_accuracy"
   ]
  },
  {
   "cell_type": "code",
   "execution_count": null,
   "id": "c643ad31-7098-40ee-b5f0-bbbc28db380b",
   "metadata": {},
   "outputs": [],
   "source": []
  }
 ],
 "metadata": {
  "kernelspec": {
   "display_name": "Python 3 (ipykernel)",
   "language": "python",
   "name": "python3"
  },
  "language_info": {
   "codemirror_mode": {
    "name": "ipython",
    "version": 3
   },
   "file_extension": ".py",
   "mimetype": "text/x-python",
   "name": "python",
   "nbconvert_exporter": "python",
   "pygments_lexer": "ipython3",
   "version": "3.11.1"
  }
 },
 "nbformat": 4,
 "nbformat_minor": 5
}
